{
  "nbformat": 4,
  "nbformat_minor": 0,
  "metadata": {
    "colab": {
      "provenance": [],
      "include_colab_link": true
    },
    "kernelspec": {
      "name": "python3",
      "display_name": "Python 3"
    },
    "language_info": {
      "name": "python"
    }
  },
  "cells": [
    {
      "cell_type": "markdown",
      "metadata": {
        "id": "view-in-github",
        "colab_type": "text"
      },
      "source": [
        "<a href=\"https://colab.research.google.com/github/Anirudho747/Edrk/blob/main/LangGraphWithAgenticRAG.ipynb\" target=\"_parent\"><img src=\"https://colab.research.google.com/assets/colab-badge.svg\" alt=\"Open In Colab\"/></a>"
      ]
    },
    {
      "cell_type": "code",
      "execution_count": null,
      "metadata": {
        "id": "LQpmpyxAe-Qp"
      },
      "outputs": [],
      "source": [
        "\n",
        "# ==============================\n",
        "# STEP 1: Install Required Libraries\n",
        "# ==============================\n",
        "!pip install -q chromadb langchain pypdf gradio langchain-community\n",
        "!pip install -q google-generativeai langchain-google-genai\n",
        "!pip install -q sentence-transformers  # Hugging Face embeddings\n",
        "\n",
        "# ==============================\n",
        "# STEP 2: Import Libraries\n",
        "# ==============================\n",
        "import os\n",
        "from langchain_community.document_loaders import PyPDFLoader\n",
        "from langchain.text_splitter import RecursiveCharacterTextSplitter\n",
        "from langchain_google_genai import ChatGoogleGenerativeAI\n",
        "from langchain_community.embeddings import HuggingFaceEmbeddings\n",
        "from langchain_community.vectorstores import Chroma\n",
        "from langchain.chains import RetrievalQA\n",
        "import gradio as gr\n",
        "\n",
        "# ==============================\n",
        "# STEP 3: Setup Google Gemini API Key\n",
        "# ==============================\n",
        "from google.colab import userdata\n",
        "os.environ[\"GOOGLE_API_KEY\"] = userdata.get(\"GOOGLE_API_KEY\")\n",
        "\n",
        "# ==============================\n",
        "# STEP 4: Load and Split PDF\n",
        "# ==============================\n",
        "pdf_path = \"/content/hr_policy.pdf\"  # Upload your PDF here\n",
        "loader = PyPDFLoader(pdf_path)\n",
        "documents = loader.load()\n",
        "\n",
        "splitter = RecursiveCharacterTextSplitter(chunk_size=1000, chunk_overlap=200)\n",
        "docs = splitter.split_documents(documents)\n",
        "\n",
        "# ==============================\n",
        "# STEP 5: Create Embeddings + Vector Store (Hugging Face)\n",
        "# ==============================\n",
        "# Using a free Hugging Face embedding model\n",
        "embeddings = HuggingFaceEmbeddings(model_name=\"sentence-transformers/all-MiniLM-L6-v2\")\n",
        "\n",
        "vectorstore = Chroma.from_documents(\n",
        "    docs, embeddings, collection_name=\"hr_policy_hf_embeddings\"\n",
        ")\n",
        "\n",
        "# ==============================\n",
        "# STEP 6: Create QA Chain (Gemini LLM)\n",
        "# ==============================\n",
        "llm = ChatGoogleGenerativeAI(model=\"gemini-2.5-pro\", temperature=0)\n",
        "retriever = vectorstore.as_retriever()\n",
        "\n",
        "qa_chain = RetrievalQA.from_chain_type(\n",
        "    llm=llm,\n",
        "    retriever=retriever,\n",
        ")\n",
        "\n",
        "# ==============================\n",
        "# STEP 7: Gradio Chatbot (Bigger Textboxes)\n",
        "# ==============================\n",
        "def chatbot(query):\n",
        "    try:\n",
        "        return qa_chain.run(query)\n",
        "    except Exception as e:\n",
        "        return f\"Error: {e}\"\n",
        "\n",
        "demo = gr.Interface(\n",
        "    fn=chatbot,\n",
        "    inputs=gr.Textbox(label=\"Ask HR Assistant a question\", lines=3, placeholder=\"Type your HR question here...\"),\n",
        "    outputs=gr.Textbox(label=\"Answer\", lines=12),\n",
        "    title=\"AI-Powered HR Assistant\"\n",
        ")\n",
        "\n",
        "demo.launch(share=True)\n"
      ]
    }
  ]
}