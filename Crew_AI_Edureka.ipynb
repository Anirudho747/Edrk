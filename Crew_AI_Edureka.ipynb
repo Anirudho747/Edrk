{
  "nbformat": 4,
  "nbformat_minor": 0,
  "metadata": {
    "colab": {
      "provenance": [],
      "include_colab_link": true
    },
    "kernelspec": {
      "name": "python3",
      "display_name": "Python 3"
    },
    "language_info": {
      "name": "python"
    },
    "widgets": {
      "application/vnd.jupyter.widget-state+json": {
        "9b423a94dd344dd286cfddaa65207822": {
          "model_module": "@jupyter-widgets/output",
          "model_name": "OutputModel",
          "model_module_version": "1.0.0",
          "state": {
            "_dom_classes": [],
            "_model_module": "@jupyter-widgets/output",
            "_model_module_version": "1.0.0",
            "_model_name": "OutputModel",
            "_view_count": null,
            "_view_module": "@jupyter-widgets/output",
            "_view_module_version": "1.0.0",
            "_view_name": "OutputView",
            "layout": "IPY_MODEL_6fb7d3db68df452f8cdd0c5aeb84cbb8",
            "msg_id": "",
            "outputs": [
              {
                "output_type": "display_data",
                "data": {
                  "text/plain": "\u001b[1;36m🚀 Crew: \u001b[0m\u001b[1;36mcrew\u001b[0m\n└── \u001b[1;33m📋 Task: 483b3559-0580-440a-86a4-d7a7d60852b6\u001b[0m\n    \u001b[37mStatus: \u001b[0m\u001b[2;33mExecuting Task...\u001b[0m\n",
                  "text/html": "<pre style=\"white-space:pre;overflow-x:auto;line-height:normal;font-family:Menlo,'DejaVu Sans Mono',consolas,'Courier New',monospace\"><span style=\"color: #008080; text-decoration-color: #008080; font-weight: bold\">🚀 Crew: crew</span>\n└── <span style=\"color: #808000; text-decoration-color: #808000; font-weight: bold\">📋 Task: 483b3559-0580-440a-86a4-d7a7d60852b6</span>\n    <span style=\"color: #c0c0c0; text-decoration-color: #c0c0c0\">Status: </span><span style=\"color: #bfbf7f; text-decoration-color: #bfbf7f\">Executing Task...</span>\n</pre>\n"
                },
                "metadata": {}
              }
            ]
          }
        },
        "6fb7d3db68df452f8cdd0c5aeb84cbb8": {
          "model_module": "@jupyter-widgets/base",
          "model_name": "LayoutModel",
          "model_module_version": "1.2.0",
          "state": {
            "_model_module": "@jupyter-widgets/base",
            "_model_module_version": "1.2.0",
            "_model_name": "LayoutModel",
            "_view_count": null,
            "_view_module": "@jupyter-widgets/base",
            "_view_module_version": "1.2.0",
            "_view_name": "LayoutView",
            "align_content": null,
            "align_items": null,
            "align_self": null,
            "border": null,
            "bottom": null,
            "display": null,
            "flex": null,
            "flex_flow": null,
            "grid_area": null,
            "grid_auto_columns": null,
            "grid_auto_flow": null,
            "grid_auto_rows": null,
            "grid_column": null,
            "grid_gap": null,
            "grid_row": null,
            "grid_template_areas": null,
            "grid_template_columns": null,
            "grid_template_rows": null,
            "height": null,
            "justify_content": null,
            "justify_items": null,
            "left": null,
            "margin": null,
            "max_height": null,
            "max_width": null,
            "min_height": null,
            "min_width": null,
            "object_fit": null,
            "object_position": null,
            "order": null,
            "overflow": null,
            "overflow_x": null,
            "overflow_y": null,
            "padding": null,
            "right": null,
            "top": null,
            "visibility": null,
            "width": null
          }
        },
        "ac7acd4ba0c14b1b9f220e7f32caa382": {
          "model_module": "@jupyter-widgets/output",
          "model_name": "OutputModel",
          "model_module_version": "1.0.0",
          "state": {
            "_dom_classes": [],
            "_model_module": "@jupyter-widgets/output",
            "_model_module_version": "1.0.0",
            "_model_name": "OutputModel",
            "_view_count": null,
            "_view_module": "@jupyter-widgets/output",
            "_view_module_version": "1.0.0",
            "_view_name": "OutputView",
            "layout": "IPY_MODEL_fe7c7b888f614cf7aebabcdc5e4b1493",
            "msg_id": "",
            "outputs": [
              {
                "output_type": "display_data",
                "data": {
                  "text/plain": "\u001b[1;36m🚀 Crew: \u001b[0m\u001b[1;36mcrew\u001b[0m\n└── \u001b[1;33m📋 Task: 483b3559-0580-440a-86a4-d7a7d60852b6\u001b[0m\n    \u001b[37mStatus: \u001b[0m\u001b[2;33mExecuting Task...\u001b[0m\n",
                  "text/html": "<pre style=\"white-space:pre;overflow-x:auto;line-height:normal;font-family:Menlo,'DejaVu Sans Mono',consolas,'Courier New',monospace\"><span style=\"color: #008080; text-decoration-color: #008080; font-weight: bold\">🚀 Crew: crew</span>\n└── <span style=\"color: #808000; text-decoration-color: #808000; font-weight: bold\">📋 Task: 483b3559-0580-440a-86a4-d7a7d60852b6</span>\n    <span style=\"color: #c0c0c0; text-decoration-color: #c0c0c0\">Status: </span><span style=\"color: #bfbf7f; text-decoration-color: #bfbf7f\">Executing Task...</span>\n</pre>\n"
                },
                "metadata": {}
              }
            ]
          }
        },
        "fe7c7b888f614cf7aebabcdc5e4b1493": {
          "model_module": "@jupyter-widgets/base",
          "model_name": "LayoutModel",
          "model_module_version": "1.2.0",
          "state": {
            "_model_module": "@jupyter-widgets/base",
            "_model_module_version": "1.2.0",
            "_model_name": "LayoutModel",
            "_view_count": null,
            "_view_module": "@jupyter-widgets/base",
            "_view_module_version": "1.2.0",
            "_view_name": "LayoutView",
            "align_content": null,
            "align_items": null,
            "align_self": null,
            "border": null,
            "bottom": null,
            "display": null,
            "flex": null,
            "flex_flow": null,
            "grid_area": null,
            "grid_auto_columns": null,
            "grid_auto_flow": null,
            "grid_auto_rows": null,
            "grid_column": null,
            "grid_gap": null,
            "grid_row": null,
            "grid_template_areas": null,
            "grid_template_columns": null,
            "grid_template_rows": null,
            "height": null,
            "justify_content": null,
            "justify_items": null,
            "left": null,
            "margin": null,
            "max_height": null,
            "max_width": null,
            "min_height": null,
            "min_width": null,
            "object_fit": null,
            "object_position": null,
            "order": null,
            "overflow": null,
            "overflow_x": null,
            "overflow_y": null,
            "padding": null,
            "right": null,
            "top": null,
            "visibility": null,
            "width": null
          }
        }
      }
    }
  },
  "cells": [
    {
      "cell_type": "markdown",
      "metadata": {
        "id": "view-in-github",
        "colab_type": "text"
      },
      "source": [
        "<a href=\"https://colab.research.google.com/github/Anirudho747/Edrk/blob/main/Crew_AI_Edureka.ipynb\" target=\"_parent\"><img src=\"https://colab.research.google.com/assets/colab-badge.svg\" alt=\"Open In Colab\"/></a>"
      ]
    },
    {
      "cell_type": "code",
      "source": [
        "\n",
        "\n",
        "# ============================================\n",
        "# Installation\n",
        "# ============================================\n",
        "!pip install -q crewai crewai-tools litellm\n",
        "\n",
        "print(\"✅ Installation complete!\")\n",
        "\n",
        "# ============================================\n",
        "# Simple Single Agent Example\n",
        "# ============================================\n",
        "\n",
        "from crewai import Agent, Task, Crew, LLM\n",
        "import os\n",
        "import time\n",
        "from getpass import getpass\n",
        "\n",
        "# Get Groq API Key\n",
        "print(\"🔑 Enter your Groq API Key\")\n",
        "print(\"Get one free at: https://console.groq.com/keys\")\n",
        "groq_api_key = getpass(\"Groq API Key: \")\n",
        "\n",
        "# Set environment variable\n",
        "os.environ[\"GROQ_API_KEY\"] = groq_api_key\n",
        "\n",
        "# Initialize Groq LLM\n",
        "llm = LLM(\n",
        "    model=\"groq/llama-3.1-8b-instant\",  # Fast model, low token usage\n",
        "    temperature=0.7,\n",
        "    max_tokens=1000,\n",
        "    api_key=groq_api_key\n",
        ")\n",
        "\n",
        "print(\"✅ LLM initialized!\")\n",
        "\n",
        "# Create a simple research agent\n",
        "researcher = Agent(\n",
        "    role=\"Research Analyst\",\n",
        "    goal=\"Research topics and provide clear, concise insights\",\n",
        "    backstory=\"You are a skilled researcher who provides accurate information.\",\n",
        "    verbose=True,\n",
        "    llm=llm\n",
        ")\n",
        "\n",
        "# Create a simple task\n",
        "research_task = Task(\n",
        "    description=\"\"\"Research the topic: {topic}\n",
        "\n",
        "    Provide a brief overview in 3-4 sentences.\n",
        "    Focus on the most important points.\"\"\",\n",
        "    agent=researcher,\n",
        "    expected_output=\"A concise 3-4 sentence overview of the topic\"\n",
        ")\n",
        "\n",
        "# Create crew with single agent\n",
        "crew = Crew(\n",
        "    agents=[researcher],\n",
        "    tasks=[research_task],\n",
        "    verbose=True\n",
        ")\n",
        "\n",
        "# Execute the task\n",
        "print(\"\\n🚀 Starting research...\")\n",
        "print(\"=\" * 50)\n",
        "\n",
        "result = crew.kickoff(\n",
        "    inputs={\n",
        "        \"topic\": \"What is artificial intelligence and how does it work?\"\n",
        "    }\n",
        ")\n",
        "\n",
        "print(\"\\n\" + \"=\" * 50)\n",
        "print(\"📊 RESULT\")\n",
        "print(\"=\" * 50)\n",
        "print(result)\n",
        "\n",
        "# ============================================\n",
        "# Try Your Own Topic (Optional)\n",
        "# ============================================\n",
        "\n",
        "# Change the topic and run this cell to research something else\n",
        "custom_topic = \"The benefits of renewable energy\"\n",
        "\n",
        "print(f\"\\n🔍 Researching: {custom_topic}\")\n",
        "print(\"=\" * 50)\n",
        "\n",
        "result = crew.kickoff(\n",
        "    inputs={\n",
        "        \"topic\": custom_topic\n",
        "    }\n",
        ")\n",
        "\n",
        "print(\"\\n\" + \"=\" * 50)\n",
        "print(\"📊 RESULT\")\n",
        "print(\"=\" * 50)\n",
        "print(result)"
      ],
      "metadata": {
        "colab": {
          "base_uri": "https://localhost:8080/",
          "height": 1000,
          "referenced_widgets": [
            "9b423a94dd344dd286cfddaa65207822",
            "6fb7d3db68df452f8cdd0c5aeb84cbb8",
            "ac7acd4ba0c14b1b9f220e7f32caa382",
            "fe7c7b888f614cf7aebabcdc5e4b1493"
          ]
        },
        "id": "UtWpV_R7qmva",
        "outputId": "ac1590ba-18a0-4675-f2cc-fe00f9b1e152"
      },
      "execution_count": null,
      "outputs": [
        {
          "output_type": "stream",
          "name": "stdout",
          "text": [
            "✅ Installation complete!\n",
            "🔑 Enter your Groq API Key\n",
            "Get one free at: https://console.groq.com/keys\n",
            "Groq API Key: ··········\n",
            "✅ LLM initialized!\n",
            "\n",
            "🚀 Starting research...\n",
            "==================================================\n"
          ]
        },
        {
          "output_type": "display_data",
          "data": {
            "text/plain": [
              "\u001b[36m╭─\u001b[0m\u001b[36m───────────────────────────────────────────\u001b[0m\u001b[36m Crew Execution Started \u001b[0m\u001b[36m────────────────────────────────────────────\u001b[0m\u001b[36m─╮\u001b[0m\n",
              "\u001b[36m│\u001b[0m                                                                                                                 \u001b[36m│\u001b[0m\n",
              "\u001b[36m│\u001b[0m  \u001b[1;36mCrew Execution Started\u001b[0m                                                                                         \u001b[36m│\u001b[0m\n",
              "\u001b[36m│\u001b[0m  \u001b[37mName: \u001b[0m\u001b[36mcrew\u001b[0m                                                                                                     \u001b[36m│\u001b[0m\n",
              "\u001b[36m│\u001b[0m  \u001b[37mID: \u001b[0m\u001b[36m03e42dab-f4be-4411-9d3a-db74896e8e20\u001b[0m                                                                       \u001b[36m│\u001b[0m\n",
              "\u001b[36m│\u001b[0m  \u001b[37mTool Args: \u001b[0m                                                                                                    \u001b[36m│\u001b[0m\n",
              "\u001b[36m│\u001b[0m                                                                                                                 \u001b[36m│\u001b[0m\n",
              "\u001b[36m│\u001b[0m                                                                                                                 \u001b[36m│\u001b[0m\n",
              "\u001b[36m╰─────────────────────────────────────────────────────────────────────────────────────────────────────────────────╯\u001b[0m\n"
            ],
            "text/html": [
              "<pre style=\"white-space:pre;overflow-x:auto;line-height:normal;font-family:Menlo,'DejaVu Sans Mono',consolas,'Courier New',monospace\"><span style=\"color: #008080; text-decoration-color: #008080\">╭──────────────────────────────────────────── Crew Execution Started ─────────────────────────────────────────────╮</span>\n",
              "<span style=\"color: #008080; text-decoration-color: #008080\">│</span>                                                                                                                 <span style=\"color: #008080; text-decoration-color: #008080\">│</span>\n",
              "<span style=\"color: #008080; text-decoration-color: #008080\">│</span>  <span style=\"color: #008080; text-decoration-color: #008080; font-weight: bold\">Crew Execution Started</span>                                                                                         <span style=\"color: #008080; text-decoration-color: #008080\">│</span>\n",
              "<span style=\"color: #008080; text-decoration-color: #008080\">│</span>  <span style=\"color: #c0c0c0; text-decoration-color: #c0c0c0\">Name: </span><span style=\"color: #008080; text-decoration-color: #008080\">crew</span>                                                                                                     <span style=\"color: #008080; text-decoration-color: #008080\">│</span>\n",
              "<span style=\"color: #008080; text-decoration-color: #008080\">│</span>  <span style=\"color: #c0c0c0; text-decoration-color: #c0c0c0\">ID: </span><span style=\"color: #008080; text-decoration-color: #008080\">03e42dab-f4be-4411-9d3a-db74896e8e20</span>                                                                       <span style=\"color: #008080; text-decoration-color: #008080\">│</span>\n",
              "<span style=\"color: #008080; text-decoration-color: #008080\">│</span>  <span style=\"color: #c0c0c0; text-decoration-color: #c0c0c0\">Tool Args: </span>                                                                                                    <span style=\"color: #008080; text-decoration-color: #008080\">│</span>\n",
              "<span style=\"color: #008080; text-decoration-color: #008080\">│</span>                                                                                                                 <span style=\"color: #008080; text-decoration-color: #008080\">│</span>\n",
              "<span style=\"color: #008080; text-decoration-color: #008080\">│</span>                                                                                                                 <span style=\"color: #008080; text-decoration-color: #008080\">│</span>\n",
              "<span style=\"color: #008080; text-decoration-color: #008080\">╰─────────────────────────────────────────────────────────────────────────────────────────────────────────────────╯</span>\n",
              "</pre>\n"
            ]
          },
          "metadata": {}
        },
        {
          "output_type": "display_data",
          "data": {
            "text/plain": [
              "\n"
            ],
            "text/html": [
              "<pre style=\"white-space:pre;overflow-x:auto;line-height:normal;font-family:Menlo,'DejaVu Sans Mono',consolas,'Courier New',monospace\">\n",
              "</pre>\n"
            ]
          },
          "metadata": {}
        },
        {
          "output_type": "display_data",
          "data": {
            "text/plain": [],
            "text/html": [
              "<pre style=\"white-space:pre;overflow-x:auto;line-height:normal;font-family:Menlo,'DejaVu Sans Mono',consolas,'Courier New',monospace\"></pre>\n"
            ]
          },
          "metadata": {}
        },
        {
          "output_type": "display_data",
          "data": {
            "text/plain": [
              "\u001b[35m╭─\u001b[0m\u001b[35m──────────────────────────────────────────────\u001b[0m\u001b[35m 🤖 Agent Started \u001b[0m\u001b[35m───────────────────────────────────────────────\u001b[0m\u001b[35m─╮\u001b[0m\n",
              "\u001b[35m│\u001b[0m                                                                                                                 \u001b[35m│\u001b[0m\n",
              "\u001b[35m│\u001b[0m  \u001b[37mAgent: \u001b[0m\u001b[1;92mResearch Analyst\u001b[0m                                                                                        \u001b[35m│\u001b[0m\n",
              "\u001b[35m│\u001b[0m                                                                                                                 \u001b[35m│\u001b[0m\n",
              "\u001b[35m│\u001b[0m  \u001b[37mTask: \u001b[0m\u001b[92mResearch the topic: What is artificial intelligence and how does it work?\u001b[0m                                \u001b[35m│\u001b[0m\n",
              "\u001b[35m│\u001b[0m                                                                                                                 \u001b[35m│\u001b[0m\n",
              "\u001b[35m│\u001b[0m  \u001b[92m    Provide a brief overview in 3-4 sentences.\u001b[0m                                                                 \u001b[35m│\u001b[0m\n",
              "\u001b[35m│\u001b[0m  \u001b[92m    Focus on the most important points.\u001b[0m                                                                        \u001b[35m│\u001b[0m\n",
              "\u001b[35m│\u001b[0m                                                                                                                 \u001b[35m│\u001b[0m\n",
              "\u001b[35m╰─────────────────────────────────────────────────────────────────────────────────────────────────────────────────╯\u001b[0m\n"
            ],
            "text/html": [
              "<pre style=\"white-space:pre;overflow-x:auto;line-height:normal;font-family:Menlo,'DejaVu Sans Mono',consolas,'Courier New',monospace\"><span style=\"color: #800080; text-decoration-color: #800080\">╭─────────────────────────────────────────────── 🤖 Agent Started ────────────────────────────────────────────────╮</span>\n",
              "<span style=\"color: #800080; text-decoration-color: #800080\">│</span>                                                                                                                 <span style=\"color: #800080; text-decoration-color: #800080\">│</span>\n",
              "<span style=\"color: #800080; text-decoration-color: #800080\">│</span>  <span style=\"color: #c0c0c0; text-decoration-color: #c0c0c0\">Agent: </span><span style=\"color: #00ff00; text-decoration-color: #00ff00; font-weight: bold\">Research Analyst</span>                                                                                        <span style=\"color: #800080; text-decoration-color: #800080\">│</span>\n",
              "<span style=\"color: #800080; text-decoration-color: #800080\">│</span>                                                                                                                 <span style=\"color: #800080; text-decoration-color: #800080\">│</span>\n",
              "<span style=\"color: #800080; text-decoration-color: #800080\">│</span>  <span style=\"color: #c0c0c0; text-decoration-color: #c0c0c0\">Task: </span><span style=\"color: #00ff00; text-decoration-color: #00ff00\">Research the topic: What is artificial intelligence and how does it work?</span>                                <span style=\"color: #800080; text-decoration-color: #800080\">│</span>\n",
              "<span style=\"color: #800080; text-decoration-color: #800080\">│</span>                                                                                                                 <span style=\"color: #800080; text-decoration-color: #800080\">│</span>\n",
              "<span style=\"color: #800080; text-decoration-color: #800080\">│</span>  <span style=\"color: #00ff00; text-decoration-color: #00ff00\">    Provide a brief overview in 3-4 sentences.</span>                                                                 <span style=\"color: #800080; text-decoration-color: #800080\">│</span>\n",
              "<span style=\"color: #800080; text-decoration-color: #800080\">│</span>  <span style=\"color: #00ff00; text-decoration-color: #00ff00\">    Focus on the most important points.</span>                                                                        <span style=\"color: #800080; text-decoration-color: #800080\">│</span>\n",
              "<span style=\"color: #800080; text-decoration-color: #800080\">│</span>                                                                                                                 <span style=\"color: #800080; text-decoration-color: #800080\">│</span>\n",
              "<span style=\"color: #800080; text-decoration-color: #800080\">╰─────────────────────────────────────────────────────────────────────────────────────────────────────────────────╯</span>\n",
              "</pre>\n"
            ]
          },
          "metadata": {}
        },
        {
          "output_type": "display_data",
          "data": {
            "text/plain": [
              "\n"
            ],
            "text/html": [
              "<pre style=\"white-space:pre;overflow-x:auto;line-height:normal;font-family:Menlo,'DejaVu Sans Mono',consolas,'Courier New',monospace\">\n",
              "</pre>\n"
            ]
          },
          "metadata": {}
        },
        {
          "output_type": "display_data",
          "data": {
            "text/plain": [
              "Output()"
            ],
            "application/vnd.jupyter.widget-view+json": {
              "version_major": 2,
              "version_minor": 0,
              "model_id": "9b423a94dd344dd286cfddaa65207822"
            }
          },
          "metadata": {}
        },
        {
          "output_type": "display_data",
          "data": {
            "text/plain": [],
            "text/html": [
              "<pre style=\"white-space:pre;overflow-x:auto;line-height:normal;font-family:Menlo,'DejaVu Sans Mono',consolas,'Courier New',monospace\"></pre>\n"
            ]
          },
          "metadata": {}
        },
        {
          "output_type": "display_data",
          "data": {
            "text/plain": [
              "\u001b[32m╭─\u001b[0m\u001b[32m────────────────────────────────────────────\u001b[0m\u001b[32m ✅ Agent Final Answer \u001b[0m\u001b[32m────────────────────────────────────────────\u001b[0m\u001b[32m─╮\u001b[0m\n",
              "\u001b[32m│\u001b[0m                                                                                                                 \u001b[32m│\u001b[0m\n",
              "\u001b[32m│\u001b[0m  \u001b[37mAgent: \u001b[0m\u001b[1;92mResearch Analyst\u001b[0m                                                                                        \u001b[32m│\u001b[0m\n",
              "\u001b[32m│\u001b[0m                                                                                                                 \u001b[32m│\u001b[0m\n",
              "\u001b[32m│\u001b[0m  \u001b[37mFinal Answer:\u001b[0m                                                                                                  \u001b[32m│\u001b[0m\n",
              "\u001b[32m│\u001b[0m  \u001b[92mArtificial intelligence (AI) refers to the simulation of human intelligence in machines that are programmed \u001b[0m   \u001b[32m│\u001b[0m\n",
              "\u001b[32m│\u001b[0m  \u001b[92mto think and learn like humans. The primary goal of AI is to create intelligent machines that can perform \u001b[0m     \u001b[32m│\u001b[0m\n",
              "\u001b[32m│\u001b[0m  \u001b[92mtasks that typically require human intelligence, such as visual perception, speech recognition, \u001b[0m               \u001b[32m│\u001b[0m\n",
              "\u001b[32m│\u001b[0m  \u001b[92mdecision-making, and problem-solving. AI systems can be categorized into two main types: narrow or weak AI, \u001b[0m   \u001b[32m│\u001b[0m\n",
              "\u001b[32m│\u001b[0m  \u001b[92mwhich is designed to perform a specific task, and general or strong AI, which is capable of performing any \u001b[0m    \u001b[32m│\u001b[0m\n",
              "\u001b[32m│\u001b[0m  \u001b[92mintellectual task that a human can. AI works by using complex algorithms and machine learning techniques to \u001b[0m   \u001b[32m│\u001b[0m\n",
              "\u001b[32m│\u001b[0m  \u001b[92manalyze data, identify patterns, and make predictions or decisions.\u001b[0m                                            \u001b[32m│\u001b[0m\n",
              "\u001b[32m│\u001b[0m                                                                                                                 \u001b[32m│\u001b[0m\n",
              "\u001b[32m╰─────────────────────────────────────────────────────────────────────────────────────────────────────────────────╯\u001b[0m\n"
            ],
            "text/html": [
              "<pre style=\"white-space:pre;overflow-x:auto;line-height:normal;font-family:Menlo,'DejaVu Sans Mono',consolas,'Courier New',monospace\"><span style=\"color: #008000; text-decoration-color: #008000\">╭───────────────────────────────────────────── ✅ Agent Final Answer ─────────────────────────────────────────────╮</span>\n",
              "<span style=\"color: #008000; text-decoration-color: #008000\">│</span>                                                                                                                 <span style=\"color: #008000; text-decoration-color: #008000\">│</span>\n",
              "<span style=\"color: #008000; text-decoration-color: #008000\">│</span>  <span style=\"color: #c0c0c0; text-decoration-color: #c0c0c0\">Agent: </span><span style=\"color: #00ff00; text-decoration-color: #00ff00; font-weight: bold\">Research Analyst</span>                                                                                        <span style=\"color: #008000; text-decoration-color: #008000\">│</span>\n",
              "<span style=\"color: #008000; text-decoration-color: #008000\">│</span>                                                                                                                 <span style=\"color: #008000; text-decoration-color: #008000\">│</span>\n",
              "<span style=\"color: #008000; text-decoration-color: #008000\">│</span>  <span style=\"color: #c0c0c0; text-decoration-color: #c0c0c0\">Final Answer:</span>                                                                                                  <span style=\"color: #008000; text-decoration-color: #008000\">│</span>\n",
              "<span style=\"color: #008000; text-decoration-color: #008000\">│</span>  <span style=\"color: #00ff00; text-decoration-color: #00ff00\">Artificial intelligence (AI) refers to the simulation of human intelligence in machines that are programmed </span>   <span style=\"color: #008000; text-decoration-color: #008000\">│</span>\n",
              "<span style=\"color: #008000; text-decoration-color: #008000\">│</span>  <span style=\"color: #00ff00; text-decoration-color: #00ff00\">to think and learn like humans. The primary goal of AI is to create intelligent machines that can perform </span>     <span style=\"color: #008000; text-decoration-color: #008000\">│</span>\n",
              "<span style=\"color: #008000; text-decoration-color: #008000\">│</span>  <span style=\"color: #00ff00; text-decoration-color: #00ff00\">tasks that typically require human intelligence, such as visual perception, speech recognition, </span>               <span style=\"color: #008000; text-decoration-color: #008000\">│</span>\n",
              "<span style=\"color: #008000; text-decoration-color: #008000\">│</span>  <span style=\"color: #00ff00; text-decoration-color: #00ff00\">decision-making, and problem-solving. AI systems can be categorized into two main types: narrow or weak AI, </span>   <span style=\"color: #008000; text-decoration-color: #008000\">│</span>\n",
              "<span style=\"color: #008000; text-decoration-color: #008000\">│</span>  <span style=\"color: #00ff00; text-decoration-color: #00ff00\">which is designed to perform a specific task, and general or strong AI, which is capable of performing any </span>    <span style=\"color: #008000; text-decoration-color: #008000\">│</span>\n",
              "<span style=\"color: #008000; text-decoration-color: #008000\">│</span>  <span style=\"color: #00ff00; text-decoration-color: #00ff00\">intellectual task that a human can. AI works by using complex algorithms and machine learning techniques to </span>   <span style=\"color: #008000; text-decoration-color: #008000\">│</span>\n",
              "<span style=\"color: #008000; text-decoration-color: #008000\">│</span>  <span style=\"color: #00ff00; text-decoration-color: #00ff00\">analyze data, identify patterns, and make predictions or decisions.</span>                                            <span style=\"color: #008000; text-decoration-color: #008000\">│</span>\n",
              "<span style=\"color: #008000; text-decoration-color: #008000\">│</span>                                                                                                                 <span style=\"color: #008000; text-decoration-color: #008000\">│</span>\n",
              "<span style=\"color: #008000; text-decoration-color: #008000\">╰─────────────────────────────────────────────────────────────────────────────────────────────────────────────────╯</span>\n",
              "</pre>\n"
            ]
          },
          "metadata": {}
        },
        {
          "output_type": "display_data",
          "data": {
            "text/plain": [
              "\n"
            ],
            "text/html": [
              "<pre style=\"white-space:pre;overflow-x:auto;line-height:normal;font-family:Menlo,'DejaVu Sans Mono',consolas,'Courier New',monospace\">\n",
              "</pre>\n"
            ]
          },
          "metadata": {}
        },
        {
          "output_type": "display_data",
          "data": {
            "text/plain": [],
            "text/html": [
              "<pre style=\"white-space:pre;overflow-x:auto;line-height:normal;font-family:Menlo,'DejaVu Sans Mono',consolas,'Courier New',monospace\"></pre>\n"
            ]
          },
          "metadata": {}
        },
        {
          "output_type": "display_data",
          "data": {
            "text/plain": [
              "\u001b[32m╭─\u001b[0m\u001b[32m───────────────────────────────────────────────\u001b[0m\u001b[32m Task Completion \u001b[0m\u001b[32m───────────────────────────────────────────────\u001b[0m\u001b[32m─╮\u001b[0m\n",
              "\u001b[32m│\u001b[0m                                                                                                                 \u001b[32m│\u001b[0m\n",
              "\u001b[32m│\u001b[0m  \u001b[1;32mTask Completed\u001b[0m                                                                                                 \u001b[32m│\u001b[0m\n",
              "\u001b[32m│\u001b[0m  \u001b[37mName: \u001b[0m\u001b[32m483b3559-0580-440a-86a4-d7a7d60852b6\u001b[0m                                                                     \u001b[32m│\u001b[0m\n",
              "\u001b[32m│\u001b[0m  \u001b[37mAgent: \u001b[0m\u001b[32mResearch Analyst\u001b[0m                                                                                        \u001b[32m│\u001b[0m\n",
              "\u001b[32m│\u001b[0m  \u001b[37mTool Args: \u001b[0m                                                                                                    \u001b[32m│\u001b[0m\n",
              "\u001b[32m│\u001b[0m                                                                                                                 \u001b[32m│\u001b[0m\n",
              "\u001b[32m│\u001b[0m                                                                                                                 \u001b[32m│\u001b[0m\n",
              "\u001b[32m╰─────────────────────────────────────────────────────────────────────────────────────────────────────────────────╯\u001b[0m\n"
            ],
            "text/html": [
              "<pre style=\"white-space:pre;overflow-x:auto;line-height:normal;font-family:Menlo,'DejaVu Sans Mono',consolas,'Courier New',monospace\"><span style=\"color: #008000; text-decoration-color: #008000\">╭──────────────────────────────────────────────── Task Completion ────────────────────────────────────────────────╮</span>\n",
              "<span style=\"color: #008000; text-decoration-color: #008000\">│</span>                                                                                                                 <span style=\"color: #008000; text-decoration-color: #008000\">│</span>\n",
              "<span style=\"color: #008000; text-decoration-color: #008000\">│</span>  <span style=\"color: #008000; text-decoration-color: #008000; font-weight: bold\">Task Completed</span>                                                                                                 <span style=\"color: #008000; text-decoration-color: #008000\">│</span>\n",
              "<span style=\"color: #008000; text-decoration-color: #008000\">│</span>  <span style=\"color: #c0c0c0; text-decoration-color: #c0c0c0\">Name: </span><span style=\"color: #008000; text-decoration-color: #008000\">483b3559-0580-440a-86a4-d7a7d60852b6</span>                                                                     <span style=\"color: #008000; text-decoration-color: #008000\">│</span>\n",
              "<span style=\"color: #008000; text-decoration-color: #008000\">│</span>  <span style=\"color: #c0c0c0; text-decoration-color: #c0c0c0\">Agent: </span><span style=\"color: #008000; text-decoration-color: #008000\">Research Analyst</span>                                                                                        <span style=\"color: #008000; text-decoration-color: #008000\">│</span>\n",
              "<span style=\"color: #008000; text-decoration-color: #008000\">│</span>  <span style=\"color: #c0c0c0; text-decoration-color: #c0c0c0\">Tool Args: </span>                                                                                                    <span style=\"color: #008000; text-decoration-color: #008000\">│</span>\n",
              "<span style=\"color: #008000; text-decoration-color: #008000\">│</span>                                                                                                                 <span style=\"color: #008000; text-decoration-color: #008000\">│</span>\n",
              "<span style=\"color: #008000; text-decoration-color: #008000\">│</span>                                                                                                                 <span style=\"color: #008000; text-decoration-color: #008000\">│</span>\n",
              "<span style=\"color: #008000; text-decoration-color: #008000\">╰─────────────────────────────────────────────────────────────────────────────────────────────────────────────────╯</span>\n",
              "</pre>\n"
            ]
          },
          "metadata": {}
        },
        {
          "output_type": "display_data",
          "data": {
            "text/plain": [
              "\n"
            ],
            "text/html": [
              "<pre style=\"white-space:pre;overflow-x:auto;line-height:normal;font-family:Menlo,'DejaVu Sans Mono',consolas,'Courier New',monospace\">\n",
              "</pre>\n"
            ]
          },
          "metadata": {}
        },
        {
          "output_type": "display_data",
          "data": {
            "text/plain": [
              "\u001b[32m╭─\u001b[0m\u001b[32m───────────────────────────────────────────────\u001b[0m\u001b[32m Crew Completion \u001b[0m\u001b[32m───────────────────────────────────────────────\u001b[0m\u001b[32m─╮\u001b[0m\n",
              "\u001b[32m│\u001b[0m                                                                                                                 \u001b[32m│\u001b[0m\n",
              "\u001b[32m│\u001b[0m  \u001b[1;32mCrew Execution Completed\u001b[0m                                                                                       \u001b[32m│\u001b[0m\n",
              "\u001b[32m│\u001b[0m  \u001b[37mName: \u001b[0m\u001b[32mcrew\u001b[0m                                                                                                     \u001b[32m│\u001b[0m\n",
              "\u001b[32m│\u001b[0m  \u001b[37mID: \u001b[0m\u001b[32m03e42dab-f4be-4411-9d3a-db74896e8e20\u001b[0m                                                                       \u001b[32m│\u001b[0m\n",
              "\u001b[32m│\u001b[0m  \u001b[37mTool Args: \u001b[0m                                                                                                    \u001b[32m│\u001b[0m\n",
              "\u001b[32m│\u001b[0m  \u001b[37mFinal Output: Artificial intelligence (AI) refers to the simulation of human intelligence in machines that \u001b[0m    \u001b[32m│\u001b[0m\n",
              "\u001b[32m│\u001b[0m  \u001b[37mare programmed to think and learn like humans. The primary goal of AI is to create intelligent machines that \u001b[0m  \u001b[32m│\u001b[0m\n",
              "\u001b[32m│\u001b[0m  \u001b[37mcan perform tasks that typically require human intelligence, such as visual perception, speech recognition, \u001b[0m   \u001b[32m│\u001b[0m\n",
              "\u001b[32m│\u001b[0m  \u001b[37mdecision-making, and problem-solving. AI systems can be categorized into two main types: narrow or weak AI, \u001b[0m   \u001b[32m│\u001b[0m\n",
              "\u001b[32m│\u001b[0m  \u001b[37mwhich is designed to perform a specific task, and general or strong AI, which is capable of performing any \u001b[0m    \u001b[32m│\u001b[0m\n",
              "\u001b[32m│\u001b[0m  \u001b[37mintellectual task that a human can. AI works by using complex algorithms and machine learning techniques to \u001b[0m   \u001b[32m│\u001b[0m\n",
              "\u001b[32m│\u001b[0m  \u001b[37manalyze data, identify patterns, and make predictions or decisions.\u001b[0m                                            \u001b[32m│\u001b[0m\n",
              "\u001b[32m│\u001b[0m                                                                                                                 \u001b[32m│\u001b[0m\n",
              "\u001b[32m│\u001b[0m                                                                                                                 \u001b[32m│\u001b[0m\n",
              "\u001b[32m╰─────────────────────────────────────────────────────────────────────────────────────────────────────────────────╯\u001b[0m\n"
            ],
            "text/html": [
              "<pre style=\"white-space:pre;overflow-x:auto;line-height:normal;font-family:Menlo,'DejaVu Sans Mono',consolas,'Courier New',monospace\"><span style=\"color: #008000; text-decoration-color: #008000\">╭──────────────────────────────────────────────── Crew Completion ────────────────────────────────────────────────╮</span>\n",
              "<span style=\"color: #008000; text-decoration-color: #008000\">│</span>                                                                                                                 <span style=\"color: #008000; text-decoration-color: #008000\">│</span>\n",
              "<span style=\"color: #008000; text-decoration-color: #008000\">│</span>  <span style=\"color: #008000; text-decoration-color: #008000; font-weight: bold\">Crew Execution Completed</span>                                                                                       <span style=\"color: #008000; text-decoration-color: #008000\">│</span>\n",
              "<span style=\"color: #008000; text-decoration-color: #008000\">│</span>  <span style=\"color: #c0c0c0; text-decoration-color: #c0c0c0\">Name: </span><span style=\"color: #008000; text-decoration-color: #008000\">crew</span>                                                                                                     <span style=\"color: #008000; text-decoration-color: #008000\">│</span>\n",
              "<span style=\"color: #008000; text-decoration-color: #008000\">│</span>  <span style=\"color: #c0c0c0; text-decoration-color: #c0c0c0\">ID: </span><span style=\"color: #008000; text-decoration-color: #008000\">03e42dab-f4be-4411-9d3a-db74896e8e20</span>                                                                       <span style=\"color: #008000; text-decoration-color: #008000\">│</span>\n",
              "<span style=\"color: #008000; text-decoration-color: #008000\">│</span>  <span style=\"color: #c0c0c0; text-decoration-color: #c0c0c0\">Tool Args: </span>                                                                                                    <span style=\"color: #008000; text-decoration-color: #008000\">│</span>\n",
              "<span style=\"color: #008000; text-decoration-color: #008000\">│</span>  <span style=\"color: #c0c0c0; text-decoration-color: #c0c0c0\">Final Output: Artificial intelligence (AI) refers to the simulation of human intelligence in machines that </span>    <span style=\"color: #008000; text-decoration-color: #008000\">│</span>\n",
              "<span style=\"color: #008000; text-decoration-color: #008000\">│</span>  <span style=\"color: #c0c0c0; text-decoration-color: #c0c0c0\">are programmed to think and learn like humans. The primary goal of AI is to create intelligent machines that </span>  <span style=\"color: #008000; text-decoration-color: #008000\">│</span>\n",
              "<span style=\"color: #008000; text-decoration-color: #008000\">│</span>  <span style=\"color: #c0c0c0; text-decoration-color: #c0c0c0\">can perform tasks that typically require human intelligence, such as visual perception, speech recognition, </span>   <span style=\"color: #008000; text-decoration-color: #008000\">│</span>\n",
              "<span style=\"color: #008000; text-decoration-color: #008000\">│</span>  <span style=\"color: #c0c0c0; text-decoration-color: #c0c0c0\">decision-making, and problem-solving. AI systems can be categorized into two main types: narrow or weak AI, </span>   <span style=\"color: #008000; text-decoration-color: #008000\">│</span>\n",
              "<span style=\"color: #008000; text-decoration-color: #008000\">│</span>  <span style=\"color: #c0c0c0; text-decoration-color: #c0c0c0\">which is designed to perform a specific task, and general or strong AI, which is capable of performing any </span>    <span style=\"color: #008000; text-decoration-color: #008000\">│</span>\n",
              "<span style=\"color: #008000; text-decoration-color: #008000\">│</span>  <span style=\"color: #c0c0c0; text-decoration-color: #c0c0c0\">intellectual task that a human can. AI works by using complex algorithms and machine learning techniques to </span>   <span style=\"color: #008000; text-decoration-color: #008000\">│</span>\n",
              "<span style=\"color: #008000; text-decoration-color: #008000\">│</span>  <span style=\"color: #c0c0c0; text-decoration-color: #c0c0c0\">analyze data, identify patterns, and make predictions or decisions.</span>                                            <span style=\"color: #008000; text-decoration-color: #008000\">│</span>\n",
              "<span style=\"color: #008000; text-decoration-color: #008000\">│</span>                                                                                                                 <span style=\"color: #008000; text-decoration-color: #008000\">│</span>\n",
              "<span style=\"color: #008000; text-decoration-color: #008000\">│</span>                                                                                                                 <span style=\"color: #008000; text-decoration-color: #008000\">│</span>\n",
              "<span style=\"color: #008000; text-decoration-color: #008000\">╰─────────────────────────────────────────────────────────────────────────────────────────────────────────────────╯</span>\n",
              "</pre>\n"
            ]
          },
          "metadata": {}
        },
        {
          "output_type": "display_data",
          "data": {
            "text/plain": [
              "\n"
            ],
            "text/html": [
              "<pre style=\"white-space:pre;overflow-x:auto;line-height:normal;font-family:Menlo,'DejaVu Sans Mono',consolas,'Courier New',monospace\">\n",
              "</pre>\n"
            ]
          },
          "metadata": {}
        },
        {
          "output_type": "display_data",
          "data": {
            "text/plain": [
              "\u001b[32m╭─\u001b[0m\u001b[32m──────────────────────────────────────────\u001b[0m\u001b[32m Trace Batch Finalization \u001b[0m\u001b[32m───────────────────────────────────────────\u001b[0m\u001b[32m─╮\u001b[0m\n",
              "\u001b[32m│\u001b[0m ✅ Trace batch finalized with session ID: 3de22d75-cd51-4088-bab0-347daa9d88f5                                  \u001b[32m│\u001b[0m\n",
              "\u001b[32m│\u001b[0m                                                                                                                 \u001b[32m│\u001b[0m\n",
              "\u001b[32m│\u001b[0m 🔗 View here:                                                                                                   \u001b[32m│\u001b[0m\n",
              "\u001b[32m│\u001b[0m https://app.crewai.com/crewai_plus/ephemeral_trace_batches/3de22d75-cd51-4088-bab0-347daa9d88f5?access_code=TRA \u001b[32m│\u001b[0m\n",
              "\u001b[32m│\u001b[0m CE-7b972273a6                                                                                                   \u001b[32m│\u001b[0m\n",
              "\u001b[32m│\u001b[0m 🔑 Access Code: TRACE-7b972273a6                                                                                \u001b[32m│\u001b[0m\n",
              "\u001b[32m╰─────────────────────────────────────────────────────────────────────────────────────────────────────────────────╯\u001b[0m\n"
            ],
            "text/html": [
              "<pre style=\"white-space:pre;overflow-x:auto;line-height:normal;font-family:Menlo,'DejaVu Sans Mono',consolas,'Courier New',monospace\"><span style=\"color: #008000; text-decoration-color: #008000\">╭─────────────────────────────────────────── Trace Batch Finalization ────────────────────────────────────────────╮</span>\n",
              "<span style=\"color: #008000; text-decoration-color: #008000\">│</span> ✅ Trace batch finalized with session ID: 3de22d75-cd51-4088-bab0-347daa9d88f5                                  <span style=\"color: #008000; text-decoration-color: #008000\">│</span>\n",
              "<span style=\"color: #008000; text-decoration-color: #008000\">│</span>                                                                                                                 <span style=\"color: #008000; text-decoration-color: #008000\">│</span>\n",
              "<span style=\"color: #008000; text-decoration-color: #008000\">│</span> 🔗 View here:                                                                                                   <span style=\"color: #008000; text-decoration-color: #008000\">│</span>\n",
              "<span style=\"color: #008000; text-decoration-color: #008000\">│</span> https://app.crewai.com/crewai_plus/ephemeral_trace_batches/3de22d75-cd51-4088-bab0-347daa9d88f5?access_code=TRA <span style=\"color: #008000; text-decoration-color: #008000\">│</span>\n",
              "<span style=\"color: #008000; text-decoration-color: #008000\">│</span> CE-7b972273a6                                                                                                   <span style=\"color: #008000; text-decoration-color: #008000\">│</span>\n",
              "<span style=\"color: #008000; text-decoration-color: #008000\">│</span> 🔑 Access Code: TRACE-7b972273a6                                                                                <span style=\"color: #008000; text-decoration-color: #008000\">│</span>\n",
              "<span style=\"color: #008000; text-decoration-color: #008000\">╰─────────────────────────────────────────────────────────────────────────────────────────────────────────────────╯</span>\n",
              "</pre>\n"
            ]
          },
          "metadata": {}
        },
        {
          "output_type": "stream",
          "name": "stdout",
          "text": [
            "\n",
            "==================================================\n",
            "📊 RESULT\n",
            "==================================================\n",
            "Artificial intelligence (AI) refers to the simulation of human intelligence in machines that are programmed to think and learn like humans. The primary goal of AI is to create intelligent machines that can perform tasks that typically require human intelligence, such as visual perception, speech recognition, decision-making, and problem-solving. AI systems can be categorized into two main types: narrow or weak AI, which is designed to perform a specific task, and general or strong AI, which is capable of performing any intellectual task that a human can. AI works by using complex algorithms and machine learning techniques to analyze data, identify patterns, and make predictions or decisions.\n",
            "\n",
            "🔍 Researching: The benefits of renewable energy\n",
            "==================================================\n"
          ]
        },
        {
          "output_type": "display_data",
          "data": {
            "text/plain": [
              "\u001b[36m╭─\u001b[0m\u001b[36m───────────────────────────────────────────\u001b[0m\u001b[36m Crew Execution Started \u001b[0m\u001b[36m────────────────────────────────────────────\u001b[0m\u001b[36m─╮\u001b[0m\n",
              "\u001b[36m│\u001b[0m                                                                                                                 \u001b[36m│\u001b[0m\n",
              "\u001b[36m│\u001b[0m  \u001b[1;36mCrew Execution Started\u001b[0m                                                                                         \u001b[36m│\u001b[0m\n",
              "\u001b[36m│\u001b[0m  \u001b[37mName: \u001b[0m\u001b[36mcrew\u001b[0m                                                                                                     \u001b[36m│\u001b[0m\n",
              "\u001b[36m│\u001b[0m  \u001b[37mID: \u001b[0m\u001b[36m03e42dab-f4be-4411-9d3a-db74896e8e20\u001b[0m                                                                       \u001b[36m│\u001b[0m\n",
              "\u001b[36m│\u001b[0m  \u001b[37mTool Args: \u001b[0m                                                                                                    \u001b[36m│\u001b[0m\n",
              "\u001b[36m│\u001b[0m                                                                                                                 \u001b[36m│\u001b[0m\n",
              "\u001b[36m│\u001b[0m                                                                                                                 \u001b[36m│\u001b[0m\n",
              "\u001b[36m╰─────────────────────────────────────────────────────────────────────────────────────────────────────────────────╯\u001b[0m\n"
            ],
            "text/html": [
              "<pre style=\"white-space:pre;overflow-x:auto;line-height:normal;font-family:Menlo,'DejaVu Sans Mono',consolas,'Courier New',monospace\"><span style=\"color: #008080; text-decoration-color: #008080\">╭──────────────────────────────────────────── Crew Execution Started ─────────────────────────────────────────────╮</span>\n",
              "<span style=\"color: #008080; text-decoration-color: #008080\">│</span>                                                                                                                 <span style=\"color: #008080; text-decoration-color: #008080\">│</span>\n",
              "<span style=\"color: #008080; text-decoration-color: #008080\">│</span>  <span style=\"color: #008080; text-decoration-color: #008080; font-weight: bold\">Crew Execution Started</span>                                                                                         <span style=\"color: #008080; text-decoration-color: #008080\">│</span>\n",
              "<span style=\"color: #008080; text-decoration-color: #008080\">│</span>  <span style=\"color: #c0c0c0; text-decoration-color: #c0c0c0\">Name: </span><span style=\"color: #008080; text-decoration-color: #008080\">crew</span>                                                                                                     <span style=\"color: #008080; text-decoration-color: #008080\">│</span>\n",
              "<span style=\"color: #008080; text-decoration-color: #008080\">│</span>  <span style=\"color: #c0c0c0; text-decoration-color: #c0c0c0\">ID: </span><span style=\"color: #008080; text-decoration-color: #008080\">03e42dab-f4be-4411-9d3a-db74896e8e20</span>                                                                       <span style=\"color: #008080; text-decoration-color: #008080\">│</span>\n",
              "<span style=\"color: #008080; text-decoration-color: #008080\">│</span>  <span style=\"color: #c0c0c0; text-decoration-color: #c0c0c0\">Tool Args: </span>                                                                                                    <span style=\"color: #008080; text-decoration-color: #008080\">│</span>\n",
              "<span style=\"color: #008080; text-decoration-color: #008080\">│</span>                                                                                                                 <span style=\"color: #008080; text-decoration-color: #008080\">│</span>\n",
              "<span style=\"color: #008080; text-decoration-color: #008080\">│</span>                                                                                                                 <span style=\"color: #008080; text-decoration-color: #008080\">│</span>\n",
              "<span style=\"color: #008080; text-decoration-color: #008080\">╰─────────────────────────────────────────────────────────────────────────────────────────────────────────────────╯</span>\n",
              "</pre>\n"
            ]
          },
          "metadata": {}
        },
        {
          "output_type": "display_data",
          "data": {
            "text/plain": [
              "\n"
            ],
            "text/html": [
              "<pre style=\"white-space:pre;overflow-x:auto;line-height:normal;font-family:Menlo,'DejaVu Sans Mono',consolas,'Courier New',monospace\">\n",
              "</pre>\n"
            ]
          },
          "metadata": {}
        },
        {
          "output_type": "display_data",
          "data": {
            "text/plain": [],
            "text/html": [
              "<pre style=\"white-space:pre;overflow-x:auto;line-height:normal;font-family:Menlo,'DejaVu Sans Mono',consolas,'Courier New',monospace\"></pre>\n"
            ]
          },
          "metadata": {}
        },
        {
          "output_type": "display_data",
          "data": {
            "text/plain": [
              "\u001b[35m╭─\u001b[0m\u001b[35m──────────────────────────────────────────────\u001b[0m\u001b[35m 🤖 Agent Started \u001b[0m\u001b[35m───────────────────────────────────────────────\u001b[0m\u001b[35m─╮\u001b[0m\n",
              "\u001b[35m│\u001b[0m                                                                                                                 \u001b[35m│\u001b[0m\n",
              "\u001b[35m│\u001b[0m  \u001b[37mAgent: \u001b[0m\u001b[1;92mResearch Analyst\u001b[0m                                                                                        \u001b[35m│\u001b[0m\n",
              "\u001b[35m│\u001b[0m                                                                                                                 \u001b[35m│\u001b[0m\n",
              "\u001b[35m│\u001b[0m  \u001b[37mTask: \u001b[0m\u001b[92mResearch the topic: The benefits of renewable energy\u001b[0m                                                     \u001b[35m│\u001b[0m\n",
              "\u001b[35m│\u001b[0m                                                                                                                 \u001b[35m│\u001b[0m\n",
              "\u001b[35m│\u001b[0m  \u001b[92m    Provide a brief overview in 3-4 sentences.\u001b[0m                                                                 \u001b[35m│\u001b[0m\n",
              "\u001b[35m│\u001b[0m  \u001b[92m    Focus on the most important points.\u001b[0m                                                                        \u001b[35m│\u001b[0m\n",
              "\u001b[35m│\u001b[0m                                                                                                                 \u001b[35m│\u001b[0m\n",
              "\u001b[35m╰─────────────────────────────────────────────────────────────────────────────────────────────────────────────────╯\u001b[0m\n"
            ],
            "text/html": [
              "<pre style=\"white-space:pre;overflow-x:auto;line-height:normal;font-family:Menlo,'DejaVu Sans Mono',consolas,'Courier New',monospace\"><span style=\"color: #800080; text-decoration-color: #800080\">╭─────────────────────────────────────────────── 🤖 Agent Started ────────────────────────────────────────────────╮</span>\n",
              "<span style=\"color: #800080; text-decoration-color: #800080\">│</span>                                                                                                                 <span style=\"color: #800080; text-decoration-color: #800080\">│</span>\n",
              "<span style=\"color: #800080; text-decoration-color: #800080\">│</span>  <span style=\"color: #c0c0c0; text-decoration-color: #c0c0c0\">Agent: </span><span style=\"color: #00ff00; text-decoration-color: #00ff00; font-weight: bold\">Research Analyst</span>                                                                                        <span style=\"color: #800080; text-decoration-color: #800080\">│</span>\n",
              "<span style=\"color: #800080; text-decoration-color: #800080\">│</span>                                                                                                                 <span style=\"color: #800080; text-decoration-color: #800080\">│</span>\n",
              "<span style=\"color: #800080; text-decoration-color: #800080\">│</span>  <span style=\"color: #c0c0c0; text-decoration-color: #c0c0c0\">Task: </span><span style=\"color: #00ff00; text-decoration-color: #00ff00\">Research the topic: The benefits of renewable energy</span>                                                     <span style=\"color: #800080; text-decoration-color: #800080\">│</span>\n",
              "<span style=\"color: #800080; text-decoration-color: #800080\">│</span>                                                                                                                 <span style=\"color: #800080; text-decoration-color: #800080\">│</span>\n",
              "<span style=\"color: #800080; text-decoration-color: #800080\">│</span>  <span style=\"color: #00ff00; text-decoration-color: #00ff00\">    Provide a brief overview in 3-4 sentences.</span>                                                                 <span style=\"color: #800080; text-decoration-color: #800080\">│</span>\n",
              "<span style=\"color: #800080; text-decoration-color: #800080\">│</span>  <span style=\"color: #00ff00; text-decoration-color: #00ff00\">    Focus on the most important points.</span>                                                                        <span style=\"color: #800080; text-decoration-color: #800080\">│</span>\n",
              "<span style=\"color: #800080; text-decoration-color: #800080\">│</span>                                                                                                                 <span style=\"color: #800080; text-decoration-color: #800080\">│</span>\n",
              "<span style=\"color: #800080; text-decoration-color: #800080\">╰─────────────────────────────────────────────────────────────────────────────────────────────────────────────────╯</span>\n",
              "</pre>\n"
            ]
          },
          "metadata": {}
        },
        {
          "output_type": "display_data",
          "data": {
            "text/plain": [
              "\n"
            ],
            "text/html": [
              "<pre style=\"white-space:pre;overflow-x:auto;line-height:normal;font-family:Menlo,'DejaVu Sans Mono',consolas,'Courier New',monospace\">\n",
              "</pre>\n"
            ]
          },
          "metadata": {}
        },
        {
          "output_type": "display_data",
          "data": {
            "text/plain": [
              "Output()"
            ],
            "application/vnd.jupyter.widget-view+json": {
              "version_major": 2,
              "version_minor": 0,
              "model_id": "ac7acd4ba0c14b1b9f220e7f32caa382"
            }
          },
          "metadata": {}
        },
        {
          "output_type": "display_data",
          "data": {
            "text/plain": [],
            "text/html": [
              "<pre style=\"white-space:pre;overflow-x:auto;line-height:normal;font-family:Menlo,'DejaVu Sans Mono',consolas,'Courier New',monospace\"></pre>\n"
            ]
          },
          "metadata": {}
        },
        {
          "output_type": "display_data",
          "data": {
            "text/plain": [
              "\u001b[32m╭─\u001b[0m\u001b[32m────────────────────────────────────────────\u001b[0m\u001b[32m ✅ Agent Final Answer \u001b[0m\u001b[32m────────────────────────────────────────────\u001b[0m\u001b[32m─╮\u001b[0m\n",
              "\u001b[32m│\u001b[0m                                                                                                                 \u001b[32m│\u001b[0m\n",
              "\u001b[32m│\u001b[0m  \u001b[37mAgent: \u001b[0m\u001b[1;92mResearch Analyst\u001b[0m                                                                                        \u001b[32m│\u001b[0m\n",
              "\u001b[32m│\u001b[0m                                                                                                                 \u001b[32m│\u001b[0m\n",
              "\u001b[32m│\u001b[0m  \u001b[37mFinal Answer:\u001b[0m                                                                                                  \u001b[32m│\u001b[0m\n",
              "\u001b[32m│\u001b[0m  \u001b[92mRenewable energy has numerous benefits, including reducing greenhouse gas emissions and mitigating climate \u001b[0m    \u001b[32m│\u001b[0m\n",
              "\u001b[32m│\u001b[0m  \u001b[92mchange, as it generates power from sustainable sources such as solar, wind, hydro, and geothermal energy. \u001b[0m     \u001b[32m│\u001b[0m\n",
              "\u001b[32m│\u001b[0m  \u001b[92mThis shift towards renewable energy can also lead to improved air quality, as it decreases the reliance on \u001b[0m    \u001b[32m│\u001b[0m\n",
              "\u001b[32m│\u001b[0m  \u001b[92mfossil fuels and subsequently lowers emissions of air pollutants like particulate matter, nitrogen oxides, \u001b[0m    \u001b[32m│\u001b[0m\n",
              "\u001b[32m│\u001b[0m  \u001b[92mand sulfur dioxide. Moreover, renewable energy can create jobs and stimulate local economies, particularly in\u001b[0m  \u001b[32m│\u001b[0m\n",
              "\u001b[32m│\u001b[0m  \u001b[92mrural areas where wind and solar farms are often located. Furthermore, renewable energy can also help to \u001b[0m      \u001b[32m│\u001b[0m\n",
              "\u001b[32m│\u001b[0m  \u001b[92mimprove energy security by reducing reliance on imported fuels and enhancing energy independence for both \u001b[0m     \u001b[32m│\u001b[0m\n",
              "\u001b[32m│\u001b[0m  \u001b[92mcountries and communities.\u001b[0m                                                                                     \u001b[32m│\u001b[0m\n",
              "\u001b[32m│\u001b[0m                                                                                                                 \u001b[32m│\u001b[0m\n",
              "\u001b[32m╰─────────────────────────────────────────────────────────────────────────────────────────────────────────────────╯\u001b[0m\n"
            ],
            "text/html": [
              "<pre style=\"white-space:pre;overflow-x:auto;line-height:normal;font-family:Menlo,'DejaVu Sans Mono',consolas,'Courier New',monospace\"><span style=\"color: #008000; text-decoration-color: #008000\">╭───────────────────────────────────────────── ✅ Agent Final Answer ─────────────────────────────────────────────╮</span>\n",
              "<span style=\"color: #008000; text-decoration-color: #008000\">│</span>                                                                                                                 <span style=\"color: #008000; text-decoration-color: #008000\">│</span>\n",
              "<span style=\"color: #008000; text-decoration-color: #008000\">│</span>  <span style=\"color: #c0c0c0; text-decoration-color: #c0c0c0\">Agent: </span><span style=\"color: #00ff00; text-decoration-color: #00ff00; font-weight: bold\">Research Analyst</span>                                                                                        <span style=\"color: #008000; text-decoration-color: #008000\">│</span>\n",
              "<span style=\"color: #008000; text-decoration-color: #008000\">│</span>                                                                                                                 <span style=\"color: #008000; text-decoration-color: #008000\">│</span>\n",
              "<span style=\"color: #008000; text-decoration-color: #008000\">│</span>  <span style=\"color: #c0c0c0; text-decoration-color: #c0c0c0\">Final Answer:</span>                                                                                                  <span style=\"color: #008000; text-decoration-color: #008000\">│</span>\n",
              "<span style=\"color: #008000; text-decoration-color: #008000\">│</span>  <span style=\"color: #00ff00; text-decoration-color: #00ff00\">Renewable energy has numerous benefits, including reducing greenhouse gas emissions and mitigating climate </span>    <span style=\"color: #008000; text-decoration-color: #008000\">│</span>\n",
              "<span style=\"color: #008000; text-decoration-color: #008000\">│</span>  <span style=\"color: #00ff00; text-decoration-color: #00ff00\">change, as it generates power from sustainable sources such as solar, wind, hydro, and geothermal energy. </span>     <span style=\"color: #008000; text-decoration-color: #008000\">│</span>\n",
              "<span style=\"color: #008000; text-decoration-color: #008000\">│</span>  <span style=\"color: #00ff00; text-decoration-color: #00ff00\">This shift towards renewable energy can also lead to improved air quality, as it decreases the reliance on </span>    <span style=\"color: #008000; text-decoration-color: #008000\">│</span>\n",
              "<span style=\"color: #008000; text-decoration-color: #008000\">│</span>  <span style=\"color: #00ff00; text-decoration-color: #00ff00\">fossil fuels and subsequently lowers emissions of air pollutants like particulate matter, nitrogen oxides, </span>    <span style=\"color: #008000; text-decoration-color: #008000\">│</span>\n",
              "<span style=\"color: #008000; text-decoration-color: #008000\">│</span>  <span style=\"color: #00ff00; text-decoration-color: #00ff00\">and sulfur dioxide. Moreover, renewable energy can create jobs and stimulate local economies, particularly in</span>  <span style=\"color: #008000; text-decoration-color: #008000\">│</span>\n",
              "<span style=\"color: #008000; text-decoration-color: #008000\">│</span>  <span style=\"color: #00ff00; text-decoration-color: #00ff00\">rural areas where wind and solar farms are often located. Furthermore, renewable energy can also help to </span>      <span style=\"color: #008000; text-decoration-color: #008000\">│</span>\n",
              "<span style=\"color: #008000; text-decoration-color: #008000\">│</span>  <span style=\"color: #00ff00; text-decoration-color: #00ff00\">improve energy security by reducing reliance on imported fuels and enhancing energy independence for both </span>     <span style=\"color: #008000; text-decoration-color: #008000\">│</span>\n",
              "<span style=\"color: #008000; text-decoration-color: #008000\">│</span>  <span style=\"color: #00ff00; text-decoration-color: #00ff00\">countries and communities.</span>                                                                                     <span style=\"color: #008000; text-decoration-color: #008000\">│</span>\n",
              "<span style=\"color: #008000; text-decoration-color: #008000\">│</span>                                                                                                                 <span style=\"color: #008000; text-decoration-color: #008000\">│</span>\n",
              "<span style=\"color: #008000; text-decoration-color: #008000\">╰─────────────────────────────────────────────────────────────────────────────────────────────────────────────────╯</span>\n",
              "</pre>\n"
            ]
          },
          "metadata": {}
        },
        {
          "output_type": "display_data",
          "data": {
            "text/plain": [
              "\n"
            ],
            "text/html": [
              "<pre style=\"white-space:pre;overflow-x:auto;line-height:normal;font-family:Menlo,'DejaVu Sans Mono',consolas,'Courier New',monospace\">\n",
              "</pre>\n"
            ]
          },
          "metadata": {}
        },
        {
          "output_type": "display_data",
          "data": {
            "text/plain": [],
            "text/html": [
              "<pre style=\"white-space:pre;overflow-x:auto;line-height:normal;font-family:Menlo,'DejaVu Sans Mono',consolas,'Courier New',monospace\"></pre>\n"
            ]
          },
          "metadata": {}
        },
        {
          "output_type": "display_data",
          "data": {
            "text/plain": [
              "\u001b[32m╭─\u001b[0m\u001b[32m───────────────────────────────────────────────\u001b[0m\u001b[32m Task Completion \u001b[0m\u001b[32m───────────────────────────────────────────────\u001b[0m\u001b[32m─╮\u001b[0m\n",
              "\u001b[32m│\u001b[0m                                                                                                                 \u001b[32m│\u001b[0m\n",
              "\u001b[32m│\u001b[0m  \u001b[1;32mTask Completed\u001b[0m                                                                                                 \u001b[32m│\u001b[0m\n",
              "\u001b[32m│\u001b[0m  \u001b[37mName: \u001b[0m\u001b[32m483b3559-0580-440a-86a4-d7a7d60852b6\u001b[0m                                                                     \u001b[32m│\u001b[0m\n",
              "\u001b[32m│\u001b[0m  \u001b[37mAgent: \u001b[0m\u001b[32mResearch Analyst\u001b[0m                                                                                        \u001b[32m│\u001b[0m\n",
              "\u001b[32m│\u001b[0m  \u001b[37mTool Args: \u001b[0m                                                                                                    \u001b[32m│\u001b[0m\n",
              "\u001b[32m│\u001b[0m                                                                                                                 \u001b[32m│\u001b[0m\n",
              "\u001b[32m│\u001b[0m                                                                                                                 \u001b[32m│\u001b[0m\n",
              "\u001b[32m╰─────────────────────────────────────────────────────────────────────────────────────────────────────────────────╯\u001b[0m\n"
            ],
            "text/html": [
              "<pre style=\"white-space:pre;overflow-x:auto;line-height:normal;font-family:Menlo,'DejaVu Sans Mono',consolas,'Courier New',monospace\"><span style=\"color: #008000; text-decoration-color: #008000\">╭──────────────────────────────────────────────── Task Completion ────────────────────────────────────────────────╮</span>\n",
              "<span style=\"color: #008000; text-decoration-color: #008000\">│</span>                                                                                                                 <span style=\"color: #008000; text-decoration-color: #008000\">│</span>\n",
              "<span style=\"color: #008000; text-decoration-color: #008000\">│</span>  <span style=\"color: #008000; text-decoration-color: #008000; font-weight: bold\">Task Completed</span>                                                                                                 <span style=\"color: #008000; text-decoration-color: #008000\">│</span>\n",
              "<span style=\"color: #008000; text-decoration-color: #008000\">│</span>  <span style=\"color: #c0c0c0; text-decoration-color: #c0c0c0\">Name: </span><span style=\"color: #008000; text-decoration-color: #008000\">483b3559-0580-440a-86a4-d7a7d60852b6</span>                                                                     <span style=\"color: #008000; text-decoration-color: #008000\">│</span>\n",
              "<span style=\"color: #008000; text-decoration-color: #008000\">│</span>  <span style=\"color: #c0c0c0; text-decoration-color: #c0c0c0\">Agent: </span><span style=\"color: #008000; text-decoration-color: #008000\">Research Analyst</span>                                                                                        <span style=\"color: #008000; text-decoration-color: #008000\">│</span>\n",
              "<span style=\"color: #008000; text-decoration-color: #008000\">│</span>  <span style=\"color: #c0c0c0; text-decoration-color: #c0c0c0\">Tool Args: </span>                                                                                                    <span style=\"color: #008000; text-decoration-color: #008000\">│</span>\n",
              "<span style=\"color: #008000; text-decoration-color: #008000\">│</span>                                                                                                                 <span style=\"color: #008000; text-decoration-color: #008000\">│</span>\n",
              "<span style=\"color: #008000; text-decoration-color: #008000\">│</span>                                                                                                                 <span style=\"color: #008000; text-decoration-color: #008000\">│</span>\n",
              "<span style=\"color: #008000; text-decoration-color: #008000\">╰─────────────────────────────────────────────────────────────────────────────────────────────────────────────────╯</span>\n",
              "</pre>\n"
            ]
          },
          "metadata": {}
        },
        {
          "output_type": "display_data",
          "data": {
            "text/plain": [
              "\n"
            ],
            "text/html": [
              "<pre style=\"white-space:pre;overflow-x:auto;line-height:normal;font-family:Menlo,'DejaVu Sans Mono',consolas,'Courier New',monospace\">\n",
              "</pre>\n"
            ]
          },
          "metadata": {}
        },
        {
          "output_type": "display_data",
          "data": {
            "text/plain": [
              "\u001b[32m╭─\u001b[0m\u001b[32m───────────────────────────────────────────────\u001b[0m\u001b[32m Crew Completion \u001b[0m\u001b[32m───────────────────────────────────────────────\u001b[0m\u001b[32m─╮\u001b[0m\n",
              "\u001b[32m│\u001b[0m                                                                                                                 \u001b[32m│\u001b[0m\n",
              "\u001b[32m│\u001b[0m  \u001b[1;32mCrew Execution Completed\u001b[0m                                                                                       \u001b[32m│\u001b[0m\n",
              "\u001b[32m│\u001b[0m  \u001b[37mName: \u001b[0m\u001b[32mcrew\u001b[0m                                                                                                     \u001b[32m│\u001b[0m\n",
              "\u001b[32m│\u001b[0m  \u001b[37mID: \u001b[0m\u001b[32m03e42dab-f4be-4411-9d3a-db74896e8e20\u001b[0m                                                                       \u001b[32m│\u001b[0m\n",
              "\u001b[32m│\u001b[0m  \u001b[37mTool Args: \u001b[0m                                                                                                    \u001b[32m│\u001b[0m\n",
              "\u001b[32m│\u001b[0m  \u001b[37mFinal Output: Renewable energy has numerous benefits, including reducing greenhouse gas emissions and \u001b[0m         \u001b[32m│\u001b[0m\n",
              "\u001b[32m│\u001b[0m  \u001b[37mmitigating climate change, as it generates power from sustainable sources such as solar, wind, hydro, and \u001b[0m     \u001b[32m│\u001b[0m\n",
              "\u001b[32m│\u001b[0m  \u001b[37mgeothermal energy. This shift towards renewable energy can also lead to improved air quality, as it decreases\u001b[0m  \u001b[32m│\u001b[0m\n",
              "\u001b[32m│\u001b[0m  \u001b[37mthe reliance on fossil fuels and subsequently lowers emissions of air pollutants like particulate matter, \u001b[0m     \u001b[32m│\u001b[0m\n",
              "\u001b[32m│\u001b[0m  \u001b[37mnitrogen oxides, and sulfur dioxide. Moreover, renewable energy can create jobs and stimulate local \u001b[0m           \u001b[32m│\u001b[0m\n",
              "\u001b[32m│\u001b[0m  \u001b[37meconomies, particularly in rural areas where wind and solar farms are often located. Furthermore, renewable \u001b[0m   \u001b[32m│\u001b[0m\n",
              "\u001b[32m│\u001b[0m  \u001b[37menergy can also help to improve energy security by reducing reliance on imported fuels and enhancing energy \u001b[0m   \u001b[32m│\u001b[0m\n",
              "\u001b[32m│\u001b[0m  \u001b[37mindependence for both countries and communities.\u001b[0m                                                               \u001b[32m│\u001b[0m\n",
              "\u001b[32m│\u001b[0m                                                                                                                 \u001b[32m│\u001b[0m\n",
              "\u001b[32m│\u001b[0m                                                                                                                 \u001b[32m│\u001b[0m\n",
              "\u001b[32m╰─────────────────────────────────────────────────────────────────────────────────────────────────────────────────╯\u001b[0m\n"
            ],
            "text/html": [
              "<pre style=\"white-space:pre;overflow-x:auto;line-height:normal;font-family:Menlo,'DejaVu Sans Mono',consolas,'Courier New',monospace\"><span style=\"color: #008000; text-decoration-color: #008000\">╭──────────────────────────────────────────────── Crew Completion ────────────────────────────────────────────────╮</span>\n",
              "<span style=\"color: #008000; text-decoration-color: #008000\">│</span>                                                                                                                 <span style=\"color: #008000; text-decoration-color: #008000\">│</span>\n",
              "<span style=\"color: #008000; text-decoration-color: #008000\">│</span>  <span style=\"color: #008000; text-decoration-color: #008000; font-weight: bold\">Crew Execution Completed</span>                                                                                       <span style=\"color: #008000; text-decoration-color: #008000\">│</span>\n",
              "<span style=\"color: #008000; text-decoration-color: #008000\">│</span>  <span style=\"color: #c0c0c0; text-decoration-color: #c0c0c0\">Name: </span><span style=\"color: #008000; text-decoration-color: #008000\">crew</span>                                                                                                     <span style=\"color: #008000; text-decoration-color: #008000\">│</span>\n",
              "<span style=\"color: #008000; text-decoration-color: #008000\">│</span>  <span style=\"color: #c0c0c0; text-decoration-color: #c0c0c0\">ID: </span><span style=\"color: #008000; text-decoration-color: #008000\">03e42dab-f4be-4411-9d3a-db74896e8e20</span>                                                                       <span style=\"color: #008000; text-decoration-color: #008000\">│</span>\n",
              "<span style=\"color: #008000; text-decoration-color: #008000\">│</span>  <span style=\"color: #c0c0c0; text-decoration-color: #c0c0c0\">Tool Args: </span>                                                                                                    <span style=\"color: #008000; text-decoration-color: #008000\">│</span>\n",
              "<span style=\"color: #008000; text-decoration-color: #008000\">│</span>  <span style=\"color: #c0c0c0; text-decoration-color: #c0c0c0\">Final Output: Renewable energy has numerous benefits, including reducing greenhouse gas emissions and </span>         <span style=\"color: #008000; text-decoration-color: #008000\">│</span>\n",
              "<span style=\"color: #008000; text-decoration-color: #008000\">│</span>  <span style=\"color: #c0c0c0; text-decoration-color: #c0c0c0\">mitigating climate change, as it generates power from sustainable sources such as solar, wind, hydro, and </span>     <span style=\"color: #008000; text-decoration-color: #008000\">│</span>\n",
              "<span style=\"color: #008000; text-decoration-color: #008000\">│</span>  <span style=\"color: #c0c0c0; text-decoration-color: #c0c0c0\">geothermal energy. This shift towards renewable energy can also lead to improved air quality, as it decreases</span>  <span style=\"color: #008000; text-decoration-color: #008000\">│</span>\n",
              "<span style=\"color: #008000; text-decoration-color: #008000\">│</span>  <span style=\"color: #c0c0c0; text-decoration-color: #c0c0c0\">the reliance on fossil fuels and subsequently lowers emissions of air pollutants like particulate matter, </span>     <span style=\"color: #008000; text-decoration-color: #008000\">│</span>\n",
              "<span style=\"color: #008000; text-decoration-color: #008000\">│</span>  <span style=\"color: #c0c0c0; text-decoration-color: #c0c0c0\">nitrogen oxides, and sulfur dioxide. Moreover, renewable energy can create jobs and stimulate local </span>           <span style=\"color: #008000; text-decoration-color: #008000\">│</span>\n",
              "<span style=\"color: #008000; text-decoration-color: #008000\">│</span>  <span style=\"color: #c0c0c0; text-decoration-color: #c0c0c0\">economies, particularly in rural areas where wind and solar farms are often located. Furthermore, renewable </span>   <span style=\"color: #008000; text-decoration-color: #008000\">│</span>\n",
              "<span style=\"color: #008000; text-decoration-color: #008000\">│</span>  <span style=\"color: #c0c0c0; text-decoration-color: #c0c0c0\">energy can also help to improve energy security by reducing reliance on imported fuels and enhancing energy </span>   <span style=\"color: #008000; text-decoration-color: #008000\">│</span>\n",
              "<span style=\"color: #008000; text-decoration-color: #008000\">│</span>  <span style=\"color: #c0c0c0; text-decoration-color: #c0c0c0\">independence for both countries and communities.</span>                                                               <span style=\"color: #008000; text-decoration-color: #008000\">│</span>\n",
              "<span style=\"color: #008000; text-decoration-color: #008000\">│</span>                                                                                                                 <span style=\"color: #008000; text-decoration-color: #008000\">│</span>\n",
              "<span style=\"color: #008000; text-decoration-color: #008000\">│</span>                                                                                                                 <span style=\"color: #008000; text-decoration-color: #008000\">│</span>\n",
              "<span style=\"color: #008000; text-decoration-color: #008000\">╰─────────────────────────────────────────────────────────────────────────────────────────────────────────────────╯</span>\n",
              "</pre>\n"
            ]
          },
          "metadata": {}
        },
        {
          "output_type": "display_data",
          "data": {
            "text/plain": [
              "\n"
            ],
            "text/html": [
              "<pre style=\"white-space:pre;overflow-x:auto;line-height:normal;font-family:Menlo,'DejaVu Sans Mono',consolas,'Courier New',monospace\">\n",
              "</pre>\n"
            ]
          },
          "metadata": {}
        },
        {
          "output_type": "display_data",
          "data": {
            "text/plain": [
              "\u001b[32m╭─\u001b[0m\u001b[32m──────────────────────────────────────────\u001b[0m\u001b[32m Trace Batch Finalization \u001b[0m\u001b[32m───────────────────────────────────────────\u001b[0m\u001b[32m─╮\u001b[0m\n",
              "\u001b[32m│\u001b[0m ✅ Trace batch finalized with session ID: 0a4f1c36-e6dc-45d7-8701-8bc3fb004ed6                                  \u001b[32m│\u001b[0m\n",
              "\u001b[32m│\u001b[0m                                                                                                                 \u001b[32m│\u001b[0m\n",
              "\u001b[32m│\u001b[0m 🔗 View here:                                                                                                   \u001b[32m│\u001b[0m\n",
              "\u001b[32m│\u001b[0m https://app.crewai.com/crewai_plus/ephemeral_trace_batches/0a4f1c36-e6dc-45d7-8701-8bc3fb004ed6?access_code=TRA \u001b[32m│\u001b[0m\n",
              "\u001b[32m│\u001b[0m CE-cd2eb830cd                                                                                                   \u001b[32m│\u001b[0m\n",
              "\u001b[32m│\u001b[0m 🔑 Access Code: TRACE-cd2eb830cd                                                                                \u001b[32m│\u001b[0m\n",
              "\u001b[32m╰─────────────────────────────────────────────────────────────────────────────────────────────────────────────────╯\u001b[0m\n"
            ],
            "text/html": [
              "<pre style=\"white-space:pre;overflow-x:auto;line-height:normal;font-family:Menlo,'DejaVu Sans Mono',consolas,'Courier New',monospace\"><span style=\"color: #008000; text-decoration-color: #008000\">╭─────────────────────────────────────────── Trace Batch Finalization ────────────────────────────────────────────╮</span>\n",
              "<span style=\"color: #008000; text-decoration-color: #008000\">│</span> ✅ Trace batch finalized with session ID: 0a4f1c36-e6dc-45d7-8701-8bc3fb004ed6                                  <span style=\"color: #008000; text-decoration-color: #008000\">│</span>\n",
              "<span style=\"color: #008000; text-decoration-color: #008000\">│</span>                                                                                                                 <span style=\"color: #008000; text-decoration-color: #008000\">│</span>\n",
              "<span style=\"color: #008000; text-decoration-color: #008000\">│</span> 🔗 View here:                                                                                                   <span style=\"color: #008000; text-decoration-color: #008000\">│</span>\n",
              "<span style=\"color: #008000; text-decoration-color: #008000\">│</span> https://app.crewai.com/crewai_plus/ephemeral_trace_batches/0a4f1c36-e6dc-45d7-8701-8bc3fb004ed6?access_code=TRA <span style=\"color: #008000; text-decoration-color: #008000\">│</span>\n",
              "<span style=\"color: #008000; text-decoration-color: #008000\">│</span> CE-cd2eb830cd                                                                                                   <span style=\"color: #008000; text-decoration-color: #008000\">│</span>\n",
              "<span style=\"color: #008000; text-decoration-color: #008000\">│</span> 🔑 Access Code: TRACE-cd2eb830cd                                                                                <span style=\"color: #008000; text-decoration-color: #008000\">│</span>\n",
              "<span style=\"color: #008000; text-decoration-color: #008000\">╰─────────────────────────────────────────────────────────────────────────────────────────────────────────────────╯</span>\n",
              "</pre>\n"
            ]
          },
          "metadata": {}
        },
        {
          "output_type": "stream",
          "name": "stdout",
          "text": [
            "\n",
            "==================================================\n",
            "📊 RESULT\n",
            "==================================================\n",
            "Renewable energy has numerous benefits, including reducing greenhouse gas emissions and mitigating climate change, as it generates power from sustainable sources such as solar, wind, hydro, and geothermal energy. This shift towards renewable energy can also lead to improved air quality, as it decreases the reliance on fossil fuels and subsequently lowers emissions of air pollutants like particulate matter, nitrogen oxides, and sulfur dioxide. Moreover, renewable energy can create jobs and stimulate local economies, particularly in rural areas where wind and solar farms are often located. Furthermore, renewable energy can also help to improve energy security by reducing reliance on imported fuels and enhancing energy independence for both countries and communities.\n"
          ]
        }
      ]
    },
    {
      "cell_type": "code",
      "source": [
        "# ============================================\n",
        "#Installation\n",
        "# ============================================\n",
        "!pip install -q crewai crewai-tools openai yfinance google-search-results\n",
        "\n",
        "import warnings\n",
        "warnings.filterwarnings('ignore')\n",
        "\n",
        "print(\"Installation complete!\")\n",
        "\n",
        "# ============================================\n",
        "# Import Libraries\n",
        "# ============================================\n",
        "\n",
        "import os\n",
        "from getpass import getpass\n",
        "from crewai import Agent, Task, Crew, LLM\n",
        "from crewai.tools import BaseTool\n",
        "from typing import Type\n",
        "from pydantic import BaseModel, Field\n",
        "import yfinance as yf\n",
        "from serpapi import GoogleSearch\n",
        "\n",
        "print(\"Libraries imported!\")\n",
        "\n",
        "# ============================================\n",
        "# Setup API Keys\n",
        "# ============================================\n",
        "\n",
        "# Get OpenAI API Key\n",
        "print(\"Enter your OpenAI API Key\")\n",
        "print(\"Get one at: https://platform.openai.com/api-keys\")\n",
        "openai_api_key = getpass(\"OpenAI API Key: \")\n",
        "\n",
        "# Get SerpAPI Key\n",
        "print(\"\\nEnter your SerpAPI Key\")\n",
        "print(\"Get one free at: https://serpapi.com/\")\n",
        "serpapi_key = getpass(\"SerpAPI Key: \")\n",
        "\n",
        "# Set environment variables\n",
        "os.environ[\"OPENAI_API_KEY\"] = openai_api_key\n",
        "os.environ[\"SERPAPI_API_KEY\"] = serpapi_key\n",
        "\n",
        "print(\"API keys configured!\")\n",
        "\n",
        "# ============================================\n",
        "# Configure OpenAI LLM\n",
        "# ============================================\n",
        "\n",
        "# Initialize OpenAI\n",
        "llm = LLM(\n",
        "    model=\"gpt-3.5-turbo\",\n",
        "    api_key=openai_api_key,\n",
        "    temperature=0.7\n",
        ")\n",
        "\n",
        "print(\"OpenAI LLM initialized!\")\n",
        "\n",
        "# ============================================\n",
        "#Define Custom Tools\n",
        "# ============================================\n",
        "\n",
        "# Define input schemas\n",
        "class StockSearchInput(BaseModel):\n",
        "    query: str = Field(..., description=\"Search query for stock news\")\n",
        "\n",
        "class YahooFinanceInput(BaseModel):\n",
        "    ticker: str = Field(..., description=\"Stock ticker symbol\")\n",
        "\n",
        "class StockSearchTool(BaseTool):\n",
        "    name: str = \"StockNewsSearcher\"\n",
        "    description: str = \"Search for latest stock news using SerpAPI Google News\"\n",
        "    args_schema: Type[BaseModel] = StockSearchInput\n",
        "\n",
        "    def _run(self, query: str) -> str:\n",
        "        \"\"\"Search for stock news using SerpAPI\"\"\"\n",
        "        try:\n",
        "            params = {\n",
        "                \"engine\": \"google\",\n",
        "                \"q\": query,\n",
        "                \"api_key\": os.environ.get(\"SERPAPI_API_KEY\"),\n",
        "                \"tbm\": \"nws\",\n",
        "                \"num\": 3\n",
        "            }\n",
        "\n",
        "            search = GoogleSearch(params)\n",
        "            results = search.get_dict()\n",
        "\n",
        "            news = results.get(\"news_results\", results.get(\"organic_results\", []))\n",
        "\n",
        "            if not news:\n",
        "                return \"No recent news found\"\n",
        "\n",
        "            output = []\n",
        "            for item in news[:3]:\n",
        "                title = item.get(\"title\", \"\")\n",
        "                snippet = item.get(\"snippet\", item.get(\"description\", \"\"))\n",
        "                output.append(f\"• {title}: {snippet[:100]}\")\n",
        "\n",
        "            return \"\\n\".join(output)\n",
        "\n",
        "        except Exception as e:\n",
        "            return f\"Error: {str(e)}\"\n",
        "\n",
        "class YahooFinanceTool(BaseTool):\n",
        "    name: str = \"YahooFinanceFetcher\"\n",
        "    description: str = \"Get stock price data from Yahoo Finance\"\n",
        "    args_schema: Type[BaseModel] = YahooFinanceInput\n",
        "\n",
        "    def _run(self, ticker: str) -> str:\n",
        "        \"\"\"Fetch stock price data\"\"\"\n",
        "        try:\n",
        "            stock = yf.Ticker(ticker)\n",
        "            hist = stock.history(period=\"1mo\")\n",
        "\n",
        "            if hist.empty:\n",
        "                return f\"No data for {ticker}\"\n",
        "\n",
        "            latest = hist.tail(5)\n",
        "            current = latest['Close'].iloc[-1]\n",
        "            change = ((latest['Close'].iloc[-1] - latest['Close'].iloc[0]) / latest['Close'].iloc[0]) * 100\n",
        "\n",
        "            return f\"\"\"Stock: {ticker}\n",
        "Price: ${current:.2f}\n",
        "5-day Change: {change:+.2f}%\n",
        "High: ${latest['High'].max():.2f}\n",
        "Low: ${latest['Low'].min():.2f}\"\"\"\n",
        "\n",
        "        except Exception as e:\n",
        "            return f\"Error: {str(e)}\"\n",
        "\n",
        "# Instantiate tools\n",
        "search_tool = StockSearchTool()\n",
        "finance_tool = YahooFinanceTool()\n",
        "\n",
        "print(\"Tools created!\")\n",
        "\n",
        "# ============================================\n",
        "# Define Agents\n",
        "# ============================================\n",
        "\n",
        "# Stock Analyst\n",
        "analyst = Agent(\n",
        "    role='Stock Analyst',\n",
        "    goal='Analyze stock data and news',\n",
        "    backstory='Expert financial analyst',\n",
        "    verbose=False,\n",
        "    allow_delegation=False,\n",
        "    llm=llm,\n",
        "    tools=[search_tool, finance_tool]\n",
        ")\n",
        "\n",
        "# Report Writer\n",
        "writer = Agent(\n",
        "    role='Report Writer',\n",
        "    goal='Write investment reports',\n",
        "    backstory='Professional financial writer',\n",
        "    verbose=False,\n",
        "    allow_delegation=False,\n",
        "    llm=llm\n",
        ")\n",
        "\n",
        "print(\"Agents created!\")\n",
        "\n",
        "# ============================================\n",
        "# Define Tasks\n",
        "# ============================================\n",
        "\n",
        "# Task 1: Search news\n",
        "news_task = Task(\n",
        "    description=\"\"\"Search for latest news about Apple Inc. (AAPL) stock.\n",
        "    Use query 'AAPL stock news'.\n",
        "    Summarize the top 3 news items.\"\"\",\n",
        "    expected_output=\"Summary of recent AAPL news\",\n",
        "    agent=analyst\n",
        ")\n",
        "\n",
        "# Task 2: Analyze prices\n",
        "price_task = Task(\n",
        "    description=\"\"\"Analyze Apple stock (AAPL) price trends.\n",
        "    Get price data and identify key trends.\"\"\",\n",
        "    expected_output=\"Price analysis for AAPL\",\n",
        "    agent=analyst\n",
        ")\n",
        "\n",
        "# Task 3: Write report\n",
        "report_task = Task(\n",
        "    description=\"\"\"Write a professional investor report for AAPL.\n",
        "    Include:\n",
        "    1. Executive Summary\n",
        "    2. News Highlights\n",
        "    3. Price Analysis\n",
        "    4. Investment Outlook\n",
        "\n",
        "    Keep under 300 words.\"\"\",\n",
        "    expected_output=\"Investment report for AAPL\",\n",
        "    agent=writer\n",
        ")\n",
        "\n",
        "print(\"Tasks defined!\")\n",
        "\n",
        "# ============================================\n",
        "# Run the Crew\n",
        "# ============================================\n",
        "\n",
        "# Create crew\n",
        "crew = Crew(\n",
        "    agents=[analyst, writer],\n",
        "    tasks=[news_task, price_task, report_task],\n",
        "    verbose=False\n",
        ")\n",
        "\n",
        "print(\"\\nStarting Stock Analysis...\")\n",
        "print(\"=\" * 60)\n",
        "\n",
        "# Execute\n",
        "result = crew.kickoff()\n",
        "\n",
        "print(\"\\n\" + \"=\" * 60)\n",
        "print(\"INVESTMENT REPORT - APPLE INC. (AAPL)\")\n",
        "print(\"=\" * 60)\n",
        "print(result)\n",
        "print(\"=\" * 60)\n",
        "\n"
      ],
      "metadata": {
        "colab": {
          "base_uri": "https://localhost:8080/",
          "height": 863
        },
        "id": "OVxayPAFRu6n",
        "outputId": "05e0afe8-8dd7-4d21-9525-e75da98cde01"
      },
      "execution_count": null,
      "outputs": [
        {
          "output_type": "stream",
          "name": "stdout",
          "text": [
            "Installation complete!\n",
            "Libraries imported!\n",
            "Enter your OpenAI API Key\n",
            "Get one at: https://platform.openai.com/api-keys\n",
            "OpenAI API Key: ··········\n",
            "\n",
            "Enter your SerpAPI Key\n",
            "Get one free at: https://serpapi.com/\n",
            "SerpAPI Key: ··········\n",
            "API keys configured!\n",
            "OpenAI LLM initialized!\n",
            "Tools created!\n",
            "Agents created!\n",
            "Tasks defined!\n",
            "\n",
            "Starting Stock Analysis...\n",
            "============================================================\n"
          ]
        },
        {
          "output_type": "display_data",
          "data": {
            "text/plain": [
              "\n",
              "\n"
            ],
            "text/html": [
              "<pre style=\"white-space:pre;overflow-x:auto;line-height:normal;font-family:Menlo,'DejaVu Sans Mono',consolas,'Courier New',monospace\">\n",
              "\n",
              "</pre>\n"
            ]
          },
          "metadata": {}
        },
        {
          "output_type": "display_data",
          "data": {
            "text/plain": [
              "\u001b[36m╭─\u001b[0m\u001b[36m──────────────────────────────────────────────\u001b[0m\u001b[36m \u001b[0m\u001b[1;36mExecution Traces\u001b[0m\u001b[36m \u001b[0m\u001b[36m───────────────────────────────────────────────\u001b[0m\u001b[36m─╮\u001b[0m\n",
              "\u001b[36m│\u001b[0m                                                                                                                 \u001b[36m│\u001b[0m\n",
              "\u001b[36m│\u001b[0m  \u001b[1;36m🔍 \u001b[0m\u001b[1;36mDetailed execution traces are available!\u001b[0m                                                                    \u001b[36m│\u001b[0m\n",
              "\u001b[36m│\u001b[0m                                                                                                                 \u001b[36m│\u001b[0m\n",
              "\u001b[36m│\u001b[0m  \u001b[37mView insights including:\u001b[0m                                                                                       \u001b[36m│\u001b[0m\n",
              "\u001b[36m│\u001b[0m  \u001b[94m  • Agent decision-making process\u001b[0m                                                                              \u001b[36m│\u001b[0m\n",
              "\u001b[36m│\u001b[0m  \u001b[94m  • Task execution flow and timing\u001b[0m                                                                             \u001b[36m│\u001b[0m\n",
              "\u001b[36m│\u001b[0m  \u001b[94m  • Tool usage details\u001b[0m                                                                                         \u001b[36m│\u001b[0m\n",
              "\u001b[36m│\u001b[0m                                                                                                                 \u001b[36m│\u001b[0m\n",
              "\u001b[36m╰─────────────────────────────────────────────────────────────────────────────────────────────────────────────────╯\u001b[0m\n"
            ],
            "text/html": [
              "<pre style=\"white-space:pre;overflow-x:auto;line-height:normal;font-family:Menlo,'DejaVu Sans Mono',consolas,'Courier New',monospace\"><span style=\"color: #008080; text-decoration-color: #008080\">╭─────────────────────────────────────────────── </span><span style=\"color: #008080; text-decoration-color: #008080; font-weight: bold\">Execution Traces</span><span style=\"color: #008080; text-decoration-color: #008080\"> ────────────────────────────────────────────────╮</span>\n",
              "<span style=\"color: #008080; text-decoration-color: #008080\">│</span>                                                                                                                 <span style=\"color: #008080; text-decoration-color: #008080\">│</span>\n",
              "<span style=\"color: #008080; text-decoration-color: #008080\">│</span>  <span style=\"color: #008080; text-decoration-color: #008080; font-weight: bold\">🔍 Detailed execution traces are available!</span>                                                                    <span style=\"color: #008080; text-decoration-color: #008080\">│</span>\n",
              "<span style=\"color: #008080; text-decoration-color: #008080\">│</span>                                                                                                                 <span style=\"color: #008080; text-decoration-color: #008080\">│</span>\n",
              "<span style=\"color: #008080; text-decoration-color: #008080\">│</span>  <span style=\"color: #c0c0c0; text-decoration-color: #c0c0c0\">View insights including:</span>                                                                                       <span style=\"color: #008080; text-decoration-color: #008080\">│</span>\n",
              "<span style=\"color: #008080; text-decoration-color: #008080\">│</span>  <span style=\"color: #0000ff; text-decoration-color: #0000ff\">  • Agent decision-making process</span>                                                                              <span style=\"color: #008080; text-decoration-color: #008080\">│</span>\n",
              "<span style=\"color: #008080; text-decoration-color: #008080\">│</span>  <span style=\"color: #0000ff; text-decoration-color: #0000ff\">  • Task execution flow and timing</span>                                                                             <span style=\"color: #008080; text-decoration-color: #008080\">│</span>\n",
              "<span style=\"color: #008080; text-decoration-color: #008080\">│</span>  <span style=\"color: #0000ff; text-decoration-color: #0000ff\">  • Tool usage details</span>                                                                                         <span style=\"color: #008080; text-decoration-color: #008080\">│</span>\n",
              "<span style=\"color: #008080; text-decoration-color: #008080\">│</span>                                                                                                                 <span style=\"color: #008080; text-decoration-color: #008080\">│</span>\n",
              "<span style=\"color: #008080; text-decoration-color: #008080\">╰─────────────────────────────────────────────────────────────────────────────────────────────────────────────────╯</span>\n",
              "</pre>\n"
            ]
          },
          "metadata": {}
        },
        {
          "output_type": "stream",
          "name": "stdout",
          "text": [
            "Would you like to view your execution traces? [y/N] (20s timeout): N\n",
            "\n",
            "============================================================\n",
            "INVESTMENT REPORT - APPLE INC. (AAPL)\n",
            "============================================================\n",
            "Executive Summary:\n",
            "Apple (AAPL) stock is currently trading at $257.13 with a market capitalization. Recent concerns regarding the impact of the iPhone 18 on stock performance have led to a downgrade by Jefferies to Underperform. Despite this, analysts are optimistic about the stock's potential to reach $310 by 2025. Over the past three months, AAPL has shown a strong comeback, sparking discussions about a potential breakout.\n",
            "\n",
            "News Highlights:\n",
            "- Jefferies downgrades Apple stock to Underperform due to iPhone 18 concerns.\n",
            "- Analysts speculate on AAPL's potential to reach $310 by 2025.\n",
            "- AAPL has demonstrated a significant recovery in the past three months.\n",
            "\n",
            "Price Analysis:\n",
            "Apple stock is currently priced at $257.13, reflecting the recent market sentiment influenced by concerns over the iPhone 18. The stock's performance over the past quarter indicates a positive trend despite short-term fluctuations.\n",
            "\n",
            "Investment Outlook:\n",
            "While the downgrade by Jefferies raises some caution regarding AAPL's near-term performance, the long-term outlook remains optimistic. Analysts foresee the stock potentially reaching $310 by 2025, driven by Apple's continued innovation and market presence. Investors should monitor the stock closely for signs of a breakout and consider the potential for long-term growth in their investment strategies.\n",
            "============================================================\n"
          ]
        }
      ]
    },
    {
      "cell_type": "code",
      "source": [
        "# ============================================\n",
        "#Installation\n",
        "# ============================================\n",
        "!pip install -q crewai crewai-tools openai yfinance google-search-results\n",
        "\n",
        "import warnings\n",
        "warnings.filterwarnings('ignore')\n",
        "\n",
        "print(\"Installation complete!\")\n",
        "\n",
        "# ============================================\n",
        "# Import Libraries\n",
        "# ============================================\n",
        "\n",
        "import os\n",
        "from getpass import getpass\n",
        "from crewai import Agent, Task, Crew, LLM\n",
        "from crewai.tools import BaseTool\n",
        "from typing import Type\n",
        "from pydantic import BaseModel, Field\n",
        "import yfinance as yf\n",
        "from serpapi import GoogleSearch\n",
        "\n",
        "print(\"Libraries imported!\")\n",
        "\n",
        "# ============================================\n",
        "# Setup API Keys\n",
        "# ============================================\n",
        "\n",
        "# Get Groq API Key\n",
        "print(\"Enter your Groq API Key\")\n",
        "print(\"Get one at: https://console.groq.com/keys\")\n",
        "groq_api_key = getpass(\"Groq API Key: \")\n",
        "\n",
        "# Get SerpAPI Key\n",
        "print(\"\\nEnter your SerpAPI Key\")\n",
        "print(\"Get one free at: https://serpapi.com/\")\n",
        "serpapi_key = getpass(\"SerpAPI Key: \")\n",
        "\n",
        "# Set environment variables\n",
        "os.environ[\"GROQ_API_KEY\"] = groq_api_key\n",
        "os.environ[\"SERPAPI_API_KEY\"] = serpapi_key\n",
        "\n",
        "print(\"API keys configured!\")\n",
        "\n",
        "# ============================================\n",
        "# Configure Groq LLM\n",
        "# ============================================\n",
        "\n",
        "# Initialize Groq\n",
        "llm = LLM(\n",
        "    model=\"groq/llama-3.3-70b-versatile\",\n",
        "    api_key=groq_api_key,\n",
        "    temperature=0.7\n",
        ")\n",
        "\n",
        "print(\"Groq LLM initialized!\")\n",
        "\n",
        "# ============================================\n",
        "#Define Custom Tools\n",
        "# ============================================\n",
        "\n",
        "# Define input schemas\n",
        "class StockSearchInput(BaseModel):\n",
        "    query: str = Field(..., description=\"Search query for stock news\")\n",
        "\n",
        "class YahooFinanceInput(BaseModel):\n",
        "    ticker: str = Field(..., description=\"Stock ticker symbol\")\n",
        "\n",
        "class StockSearchTool(BaseTool):\n",
        "    name: str = \"StockNewsSearcher\"\n",
        "    description: str = \"Search for latest stock news using SerpAPI Google News\"\n",
        "    args_schema: Type[BaseModel] = StockSearchInput\n",
        "\n",
        "    def _run(self, query: str) -> str:\n",
        "        \"\"\"Search for stock news using SerpAPI\"\"\"\n",
        "        try:\n",
        "            params = {\n",
        "                \"engine\": \"google\",\n",
        "                \"q\": query,\n",
        "                \"api_key\": os.environ.get(\"SERPAPI_API_KEY\"),\n",
        "                \"tbm\": \"nws\",\n",
        "                \"num\": 3\n",
        "            }\n",
        "\n",
        "            search = GoogleSearch(params)\n",
        "            results = search.get_dict()\n",
        "\n",
        "            news = results.get(\"news_results\", results.get(\"organic_results\", []))\n",
        "\n",
        "            if not news:\n",
        "                return \"No recent news found\"\n",
        "\n",
        "            output = []\n",
        "            for item in news[:3]:\n",
        "                title = item.get(\"title\", \"\")\n",
        "                snippet = item.get(\"snippet\", item.get(\"description\", \"\"))\n",
        "                output.append(f\"• {title}: {snippet[:100]}\")\n",
        "\n",
        "            return \"\\n\".join(output)\n",
        "\n",
        "        except Exception as e:\n",
        "            return f\"Error: {str(e)}\"\n",
        "\n",
        "class YahooFinanceTool(BaseTool):\n",
        "    name: str = \"YahooFinanceFetcher\"\n",
        "    description: str = \"Get stock price data from Yahoo Finance\"\n",
        "    args_schema: Type[BaseModel] = YahooFinanceInput\n",
        "\n",
        "    def _run(self, ticker: str) -> str:\n",
        "        \"\"\"Fetch stock price data\"\"\"\n",
        "        try:\n",
        "            stock = yf.Ticker(ticker)\n",
        "            hist = stock.history(period=\"1mo\")\n",
        "\n",
        "            if hist.empty:\n",
        "                return f\"No data for {ticker}\"\n",
        "\n",
        "            latest = hist.tail(5)\n",
        "            current = latest['Close'].iloc[-1]\n",
        "            change = ((latest['Close'].iloc[-1] - latest['Close'].iloc[0]) / latest['Close'].iloc[0]) * 100\n",
        "\n",
        "            return f\"\"\"Stock: {ticker}\n",
        "Price: ${current:.2f}\n",
        "5-day Change: {change:+.2f}%\n",
        "High: ${latest['High'].max():.2f}\n",
        "Low: ${latest['Low'].min():.2f}\"\"\"\n",
        "\n",
        "        except Exception as e:\n",
        "            return f\"Error: {str(e)}\"\n",
        "\n",
        "# Instantiate tools\n",
        "search_tool = StockSearchTool()\n",
        "finance_tool = YahooFinanceTool()\n",
        "\n",
        "print(\"Tools created!\")\n",
        "\n",
        "# ============================================\n",
        "# Define Agents\n",
        "# ============================================\n",
        "\n",
        "# Stock Analyst\n",
        "analyst = Agent(\n",
        "    role='Stock Analyst',\n",
        "    goal='Analyze stock data and news',\n",
        "    backstory='Expert financial analyst',\n",
        "    verbose=False,\n",
        "    allow_delegation=False,\n",
        "    llm=llm,\n",
        "    tools=[search_tool, finance_tool]\n",
        ")\n",
        "\n",
        "# Report Writer\n",
        "writer = Agent(\n",
        "    role='Report Writer',\n",
        "    goal='Write investment reports',\n",
        "    backstory='Professional financial writer',\n",
        "    verbose=False,\n",
        "    allow_delegation=False,\n",
        "    llm=llm\n",
        ")\n",
        "\n",
        "print(\"Agents created!\")\n",
        "\n",
        "# ============================================\n",
        "# Define Tasks\n",
        "# ============================================\n",
        "\n",
        "# Task 1: Search news\n",
        "news_task = Task(\n",
        "    description=\"\"\"Search for latest news about Apple Inc. (AAPL) stock.\n",
        "    Use query 'AAPL stock news'.\n",
        "    Summarize the top 3 news items.\"\"\",\n",
        "    expected_output=\"Summary of recent AAPL news\",\n",
        "    agent=analyst\n",
        ")\n",
        "\n",
        "# Task 2: Analyze prices\n",
        "price_task = Task(\n",
        "    description=\"\"\"Analyze Apple stock (AAPL) price trends.\n",
        "    Get price data and identify key trends.\"\"\",\n",
        "    expected_output=\"Price analysis for AAPL\",\n",
        "    agent=analyst\n",
        ")\n",
        "\n",
        "# Task 3: Write report\n",
        "report_task = Task(\n",
        "    description=\"\"\"Write a professional investor report for AAPL.\n",
        "    Include:\n",
        "    1. Executive Summary\n",
        "    2. News Highlights\n",
        "    3. Price Analysis\n",
        "    4. Investment Outlook\n",
        "\n",
        "    Keep under 300 words.\"\"\",\n",
        "    expected_output=\"Investment report for AAPL\",\n",
        "    agent=writer\n",
        ")\n",
        "\n",
        "print(\"Tasks defined!\")\n",
        "\n",
        "# ============================================\n",
        "# Run the Crew\n",
        "# ============================================\n",
        "\n",
        "# Create crew\n",
        "crew = Crew(\n",
        "    agents=[analyst, writer],\n",
        "    tasks=[news_task, price_task, report_task],\n",
        "    verbose=False\n",
        ")\n",
        "\n",
        "print(\"\\nStarting Stock Analysis...\")\n",
        "print(\"=\" * 60)\n",
        "\n",
        "# Execute\n",
        "result = crew.kickoff()\n",
        "\n",
        "print(\"\\n\" + \"=\" * 60)\n",
        "print(\"INVESTMENT REPORT - APPLE INC. (AAPL)\")\n",
        "print(\"=\" * 60)\n",
        "print(result)\n",
        "print(\"=\" * 60)"
      ],
      "metadata": {
        "colab": {
          "base_uri": "https://localhost:8080/",
          "height": 815
        },
        "id": "4G18l0f4kf9v",
        "outputId": "e492739b-a52f-4207-cf55-460cbd45a834"
      },
      "execution_count": null,
      "outputs": [
        {
          "output_type": "stream",
          "name": "stdout",
          "text": [
            "Installation complete!\n",
            "Libraries imported!\n",
            "Enter your Groq API Key\n",
            "Get one at: https://console.groq.com/keys\n",
            "Groq API Key: ··········\n",
            "\n",
            "Enter your SerpAPI Key\n",
            "Get one free at: https://serpapi.com/\n",
            "SerpAPI Key: ··········\n",
            "API keys configured!\n",
            "Groq LLM initialized!\n",
            "Tools created!\n",
            "Agents created!\n",
            "Tasks defined!\n",
            "\n",
            "Starting Stock Analysis...\n",
            "============================================================\n"
          ]
        },
        {
          "output_type": "display_data",
          "data": {
            "text/plain": [
              "\u001b[32m╭─\u001b[0m\u001b[32m──────────────────────────────────────────\u001b[0m\u001b[32m Trace Batch Finalization \u001b[0m\u001b[32m───────────────────────────────────────────\u001b[0m\u001b[32m─╮\u001b[0m\n",
              "\u001b[32m│\u001b[0m ✅ Trace batch finalized with session ID: 8841bfcb-325d-43e6-9b3d-d8baa489e6df                                  \u001b[32m│\u001b[0m\n",
              "\u001b[32m│\u001b[0m                                                                                                                 \u001b[32m│\u001b[0m\n",
              "\u001b[32m│\u001b[0m 🔗 View here:                                                                                                   \u001b[32m│\u001b[0m\n",
              "\u001b[32m│\u001b[0m https://app.crewai.com/crewai_plus/ephemeral_trace_batches/8841bfcb-325d-43e6-9b3d-d8baa489e6df?access_code=TRA \u001b[32m│\u001b[0m\n",
              "\u001b[32m│\u001b[0m CE-614532398c                                                                                                   \u001b[32m│\u001b[0m\n",
              "\u001b[32m│\u001b[0m 🔑 Access Code: TRACE-614532398c                                                                                \u001b[32m│\u001b[0m\n",
              "\u001b[32m╰─────────────────────────────────────────────────────────────────────────────────────────────────────────────────╯\u001b[0m\n"
            ],
            "text/html": [
              "<pre style=\"white-space:pre;overflow-x:auto;line-height:normal;font-family:Menlo,'DejaVu Sans Mono',consolas,'Courier New',monospace\"><span style=\"color: #008000; text-decoration-color: #008000\">╭─────────────────────────────────────────── Trace Batch Finalization ────────────────────────────────────────────╮</span>\n",
              "<span style=\"color: #008000; text-decoration-color: #008000\">│</span> ✅ Trace batch finalized with session ID: 8841bfcb-325d-43e6-9b3d-d8baa489e6df                                  <span style=\"color: #008000; text-decoration-color: #008000\">│</span>\n",
              "<span style=\"color: #008000; text-decoration-color: #008000\">│</span>                                                                                                                 <span style=\"color: #008000; text-decoration-color: #008000\">│</span>\n",
              "<span style=\"color: #008000; text-decoration-color: #008000\">│</span> 🔗 View here:                                                                                                   <span style=\"color: #008000; text-decoration-color: #008000\">│</span>\n",
              "<span style=\"color: #008000; text-decoration-color: #008000\">│</span> https://app.crewai.com/crewai_plus/ephemeral_trace_batches/8841bfcb-325d-43e6-9b3d-d8baa489e6df?access_code=TRA <span style=\"color: #008000; text-decoration-color: #008000\">│</span>\n",
              "<span style=\"color: #008000; text-decoration-color: #008000\">│</span> CE-614532398c                                                                                                   <span style=\"color: #008000; text-decoration-color: #008000\">│</span>\n",
              "<span style=\"color: #008000; text-decoration-color: #008000\">│</span> 🔑 Access Code: TRACE-614532398c                                                                                <span style=\"color: #008000; text-decoration-color: #008000\">│</span>\n",
              "<span style=\"color: #008000; text-decoration-color: #008000\">╰─────────────────────────────────────────────────────────────────────────────────────────────────────────────────╯</span>\n",
              "</pre>\n"
            ]
          },
          "metadata": {}
        },
        {
          "output_type": "stream",
          "name": "stdout",
          "text": [
            "\n",
            "============================================================\n",
            "INVESTMENT REPORT - APPLE INC. (AAPL)\n",
            "============================================================\n",
            "**Investor Report for AAPL**\n",
            "\n",
            "**Executive Summary**\n",
            "Apple Inc. (AAPL) has experienced a recent downturn in its stock price due to concerns over iPhone 17 demand and a downgrade from Jefferies. Despite this, the company remains a leader in the technology sector, with a strong brand and innovative product pipeline. This report provides an overview of recent news highlights, price analysis, and investment outlook for AAPL.\n",
            "\n",
            "**News Highlights**\n",
            "Recent news reports indicate that Apple's iPhone 17 has seen cooling demand in the US market, leading to a downgrade from Jefferies. The analyst warns that iPhone 17 momentum is fading, and the company faces pressure. Additionally, Apple has shifted its focus from VR headsets to glasses, which could potentially lead to a strong close for the year.\n",
            "\n",
            "**Price Analysis**\n",
            "The current stock price of Apple (AAPL) is $258.01, with a 5-day change of +1.41%. The stock has a high of $259.24 and a low of $253.01, with a volume of 54,131,012. Despite recent downgrades, some analysts argue that better demand for the iPhone 17 has led to unrealistic expectations, and the company's future prospects and product developments will be crucial in determining its long-term performance.\n",
            "\n",
            "**Investment Outlook**\n",
            "Given the current market conditions and recent news highlights, the investment outlook for AAPL is cautious. While the company's strong brand and product pipeline are positives, the cooling demand for iPhone 17 and downgrade from Jefferies are concerns. Investors should closely monitor the company's future prospects and product developments to determine the best course of action.\n",
            "============================================================\n"
          ]
        }
      ]
    }
  ]
}