{
  "nbformat": 4,
  "nbformat_minor": 0,
  "metadata": {
    "colab": {
      "provenance": [],
      "authorship_tag": "ABX9TyPQjJ/Pzfz7X3woNjveaz17",
      "include_colab_link": true
    },
    "kernelspec": {
      "name": "python3",
      "display_name": "Python 3"
    },
    "language_info": {
      "name": "python"
    }
  },
  "cells": [
    {
      "cell_type": "markdown",
      "metadata": {
        "id": "view-in-github",
        "colab_type": "text"
      },
      "source": [
        "<a href=\"https://colab.research.google.com/github/Anirudho747/Edrk/blob/main/Class_2.ipynb\" target=\"_parent\"><img src=\"https://colab.research.google.com/assets/colab-badge.svg\" alt=\"Open In Colab\"/></a>"
      ]
    },
    {
      "cell_type": "code",
      "execution_count": 1,
      "metadata": {
        "colab": {
          "base_uri": "https://localhost:8080/",
          "height": 305
        },
        "id": "kptZeSBULYla",
        "outputId": "6e67e02b-d27b-4303-f09b-91868070b32b"
      },
      "outputs": [
        {
          "output_type": "stream",
          "name": "stdout",
          "text": [
            "Ques:  Can you explain the difference between Agentic AI and AI Agents?\n",
            "Answer: While the terms \"Agentic AI\" and \"AI Agents\" are closely related and often used interchangeably, there's a subtle but important distinction:\n",
            "\n",
            "* **AI Agent:** This is a broader term encompassing any software or system that acts autonomously in an environment to achieve a goal.  An AI agent perceives its environment through sensors (input), processes that information, and acts upon it through actuators (output).  This encompasses a wide range of systems, from simple rule-based bots to complex learning agents.  The key is *autonomy* – they act on their own without constant human intervention.  Examples include: a thermostat (simple), a chess-playing program (more complex), or a recommendation system (data-driven).\n",
            "\n",
            "* **Agentic AI:** This is a more specific and often stronger connotation. It emphasizes the *proactive* and *goal-directed* nature of the AI agent.  Agentic AI suggests an agent that isn't just reacting to its environment but actively shaping and influencing it to achieve its goals.  It implies a higher level of autonomy, intelligence, and potentially even a degree of self-preservation or self-interest.  Agentic AI often suggests capabilities like planning, learning, and adaptation far beyond simple reactive systems.  Examples might include a robot navigating a complex environment, a self-driving car making decisions in unpredictable traffic, or an AI managing a complex system like a power grid.\n",
            "\n",
            "In essence:\n",
            "\n",
            "* All Agentic AI is AI Agents, but not all AI Agents are Agentic AI.\n",
            "\n",
            "A simple spam filter is an AI agent because it autonomously sorts emails.  However, it's not considered *Agentic AI* because it lacks the proactive, goal-directed behavior that implies shaping its environment.  A self-driving car, on the other hand, is both an AI agent and exemplifies Agentic AI because it actively navigates the environment to reach its destination, adapting to unexpected circumstances.\n",
            "\n",
            "The distinction often lies in the level of autonomy, proactivity, and the complexity of the goals the AI is pursuing. The term \"Agentic AI\" highlights the more advanced and potentially more consequential capabilities of certain AI agents.\n",
            "\n"
          ]
        }
      ],
      "source": [
        "import google.generativeai as genai\n",
        "\n",
        "from google.colab import userdata\n",
        "\n",
        "# Configure my gemini API key\n",
        "\n",
        "# Access the API key from Colab secrets.\n",
        "\n",
        "genai.configure(api_key=userdata.get('GOOGLE_API_KEY'))\n",
        "\n",
        "# Load Gemini pro model\n",
        "\n",
        "model = genai.GenerativeModel(\"gemini-1.5-flash\")\n",
        "\n",
        "# Define a very simple function for the agent\n",
        "\n",
        "def simple_agent(prompt):\n",
        "\n",
        "    response = model.generate_content(prompt)\n",
        "\n",
        "    return response.text\n",
        "\n",
        "# Try first prompt\n",
        "\n",
        "question = \"Can you explain the difference between Agentic AI and AI Agents?\"\n",
        "\n",
        "answer = simple_agent(question)\n",
        "\n",
        "print(\"Ques: \", question)\n",
        "\n",
        "print(\"Answer:\", answer)\n",
        "\n",
        "\n",
        "\n",
        "\n"
      ]
    },
    {
      "cell_type": "code",
      "source": [
        "!pip install google-generativeai\n",
        "\n",
        "import os\n",
        "\n",
        "import google.generativeai as genai\n",
        "from google.colab import userdata\n",
        "\n",
        "\n",
        "# Step 1: Set API Key\n",
        "\n",
        "genai.configure(api_key=userdata.get('GOOGLE_API_KEY'))\n",
        "\n",
        "# Step 2: Create Gemini model\n",
        "\n",
        "model = genai.GenerativeModel(\"gemini-1.5-flash-latest\")\n",
        "\n",
        "chat = model.start_chat()\n",
        "\n",
        "# Step 3: Take symptom input\n",
        "\n",
        "user_input = input(\"Please describe your health symptoms: \")\n",
        "\n",
        "# Step 4: Use Gemini to analyze and respond\n",
        "\n",
        "response = chat.send_message(f\"The patient says: {user_input}. Is this a serious medical condition? What should they do next?\")\n",
        "\n",
        "print(\"AI Advice:\")\n",
        "\n",
        "print(response.text)\n",
        "\n",
        "\n",
        "\n",
        "\n"
      ],
      "metadata": {
        "colab": {
          "base_uri": "https://localhost:8080/",
          "height": 1000
        },
        "id": "4lxb9mdqOoOE",
        "outputId": "b2965176-c262-4c65-fdc0-1f030afd76a4"
      },
      "execution_count": 2,
      "outputs": [
        {
          "output_type": "stream",
          "name": "stdout",
          "text": [
            "Requirement already satisfied: google-generativeai in /usr/local/lib/python3.12/dist-packages (0.8.5)\n",
            "Requirement already satisfied: google-ai-generativelanguage==0.6.15 in /usr/local/lib/python3.12/dist-packages (from google-generativeai) (0.6.15)\n",
            "Requirement already satisfied: google-api-core in /usr/local/lib/python3.12/dist-packages (from google-generativeai) (2.25.1)\n",
            "Requirement already satisfied: google-api-python-client in /usr/local/lib/python3.12/dist-packages (from google-generativeai) (2.181.0)\n",
            "Requirement already satisfied: google-auth>=2.15.0 in /usr/local/lib/python3.12/dist-packages (from google-generativeai) (2.38.0)\n",
            "Requirement already satisfied: protobuf in /usr/local/lib/python3.12/dist-packages (from google-generativeai) (5.29.5)\n",
            "Requirement already satisfied: pydantic in /usr/local/lib/python3.12/dist-packages (from google-generativeai) (2.11.7)\n",
            "Requirement already satisfied: tqdm in /usr/local/lib/python3.12/dist-packages (from google-generativeai) (4.67.1)\n",
            "Requirement already satisfied: typing-extensions in /usr/local/lib/python3.12/dist-packages (from google-generativeai) (4.15.0)\n",
            "Requirement already satisfied: proto-plus<2.0.0dev,>=1.22.3 in /usr/local/lib/python3.12/dist-packages (from google-ai-generativelanguage==0.6.15->google-generativeai) (1.26.1)\n",
            "Requirement already satisfied: googleapis-common-protos<2.0.0,>=1.56.2 in /usr/local/lib/python3.12/dist-packages (from google-api-core->google-generativeai) (1.70.0)\n",
            "Requirement already satisfied: requests<3.0.0,>=2.18.0 in /usr/local/lib/python3.12/dist-packages (from google-api-core->google-generativeai) (2.32.4)\n",
            "Requirement already satisfied: cachetools<6.0,>=2.0.0 in /usr/local/lib/python3.12/dist-packages (from google-auth>=2.15.0->google-generativeai) (5.5.2)\n",
            "Requirement already satisfied: pyasn1-modules>=0.2.1 in /usr/local/lib/python3.12/dist-packages (from google-auth>=2.15.0->google-generativeai) (0.4.2)\n",
            "Requirement already satisfied: rsa<5,>=3.1.4 in /usr/local/lib/python3.12/dist-packages (from google-auth>=2.15.0->google-generativeai) (4.9.1)\n",
            "Requirement already satisfied: httplib2<1.0.0,>=0.19.0 in /usr/local/lib/python3.12/dist-packages (from google-api-python-client->google-generativeai) (0.30.0)\n",
            "Requirement already satisfied: google-auth-httplib2<1.0.0,>=0.2.0 in /usr/local/lib/python3.12/dist-packages (from google-api-python-client->google-generativeai) (0.2.0)\n",
            "Requirement already satisfied: uritemplate<5,>=3.0.1 in /usr/local/lib/python3.12/dist-packages (from google-api-python-client->google-generativeai) (4.2.0)\n",
            "Requirement already satisfied: annotated-types>=0.6.0 in /usr/local/lib/python3.12/dist-packages (from pydantic->google-generativeai) (0.7.0)\n",
            "Requirement already satisfied: pydantic-core==2.33.2 in /usr/local/lib/python3.12/dist-packages (from pydantic->google-generativeai) (2.33.2)\n",
            "Requirement already satisfied: typing-inspection>=0.4.0 in /usr/local/lib/python3.12/dist-packages (from pydantic->google-generativeai) (0.4.1)\n",
            "Requirement already satisfied: grpcio<2.0.0,>=1.33.2 in /usr/local/lib/python3.12/dist-packages (from google-api-core[grpc]!=2.0.*,!=2.1.*,!=2.10.*,!=2.2.*,!=2.3.*,!=2.4.*,!=2.5.*,!=2.6.*,!=2.7.*,!=2.8.*,!=2.9.*,<3.0.0dev,>=1.34.1->google-ai-generativelanguage==0.6.15->google-generativeai) (1.74.0)\n",
            "Requirement already satisfied: grpcio-status<2.0.0,>=1.33.2 in /usr/local/lib/python3.12/dist-packages (from google-api-core[grpc]!=2.0.*,!=2.1.*,!=2.10.*,!=2.2.*,!=2.3.*,!=2.4.*,!=2.5.*,!=2.6.*,!=2.7.*,!=2.8.*,!=2.9.*,<3.0.0dev,>=1.34.1->google-ai-generativelanguage==0.6.15->google-generativeai) (1.71.2)\n",
            "Requirement already satisfied: pyparsing<4,>=3.0.4 in /usr/local/lib/python3.12/dist-packages (from httplib2<1.0.0,>=0.19.0->google-api-python-client->google-generativeai) (3.2.3)\n",
            "Requirement already satisfied: pyasn1<0.7.0,>=0.6.1 in /usr/local/lib/python3.12/dist-packages (from pyasn1-modules>=0.2.1->google-auth>=2.15.0->google-generativeai) (0.6.1)\n",
            "Requirement already satisfied: charset_normalizer<4,>=2 in /usr/local/lib/python3.12/dist-packages (from requests<3.0.0,>=2.18.0->google-api-core->google-generativeai) (3.4.3)\n",
            "Requirement already satisfied: idna<4,>=2.5 in /usr/local/lib/python3.12/dist-packages (from requests<3.0.0,>=2.18.0->google-api-core->google-generativeai) (3.10)\n",
            "Requirement already satisfied: urllib3<3,>=1.21.1 in /usr/local/lib/python3.12/dist-packages (from requests<3.0.0,>=2.18.0->google-api-core->google-generativeai) (2.5.0)\n",
            "Requirement already satisfied: certifi>=2017.4.17 in /usr/local/lib/python3.12/dist-packages (from requests<3.0.0,>=2.18.0->google-api-core->google-generativeai) (2025.8.3)\n",
            "Please describe your health symptoms: I keep salivating a lot, even when i am trying to talk\n",
            "AI Advice:\n",
            "Excessive salivation (hypersalivation or ptyalism) can be a symptom of several conditions, ranging from relatively benign to quite serious.  It's impossible to determine the seriousness without a proper medical examination.  The patient should **see a doctor or other healthcare professional as soon as possible**.\n",
            "\n",
            "Here's why immediate medical attention is advised and what the doctor might do:\n",
            "\n",
            "**Reasons for excessive salivation:**\n",
            "\n",
            "* **Medication side effects:** Many medications, including some antipsychotics, antidepressants, and certain muscle relaxants, can cause hypersalivation.\n",
            "* **Neurological conditions:**  Conditions like Parkinson's disease, stroke, cerebral palsy, and amyotrophic lateral sclerosis (ALS) can affect the nervous system's control over salivation.\n",
            "* **Infections:**  Infections in the mouth (e.g., oral thrush), throat, or elsewhere can stimulate saliva production.  Dental problems can also contribute.\n",
            "* **Gastrointestinal issues:**  Problems with the digestive system can sometimes lead to increased salivation.\n",
            "* **Pregnancy:** Hormonal changes during pregnancy can sometimes cause increased saliva production.\n",
            "* **Anxiety or stress:**  In some cases, nervousness or stress can lead to excessive salivation.\n",
            "* **Tumors:**  Rarely, tumors in the mouth or salivary glands can cause hypersalivation.\n",
            "\n",
            "\n",
            "**What the patient should do:**\n",
            "\n",
            "1. **Schedule an appointment with a doctor:** This is the most important step.  They will be able to perform a physical exam, review the patient's medical history (including medications), and potentially order tests to determine the underlying cause.\n",
            "2. **Keep a record:**  Before the appointment, the patient should note when the excessive salivation occurs, if it's related to specific activities or times of day, and any other symptoms they're experiencing (e.g., difficulty swallowing, muscle weakness, changes in speech, nausea).\n",
            "3. **List medications:**  The patient should bring a list of all medications they are currently taking, including over-the-counter drugs and supplements.\n",
            "4. **Be prepared to answer questions:**  The doctor will ask about the patient's medical history, lifestyle, and any other symptoms.\n",
            "\n",
            "\n",
            "It's crucial to avoid self-diagnosing and treating this condition.  Excessive salivation could be a sign of a serious underlying problem requiring prompt medical intervention.  A doctor's assessment is essential to determine the cause and appropriate treatment.\n",
            "\n"
          ]
        }
      ]
    }
  ]
}