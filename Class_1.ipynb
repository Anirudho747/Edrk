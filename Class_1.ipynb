{
  "nbformat": 4,
  "nbformat_minor": 0,
  "metadata": {
    "colab": {
      "provenance": [],
      "authorship_tag": "ABX9TyOwaeDMeCFP1X35Sn+F9mhI",
      "include_colab_link": true
    },
    "kernelspec": {
      "name": "python3",
      "display_name": "Python 3"
    },
    "language_info": {
      "name": "python"
    }
  },
  "cells": [
    {
      "cell_type": "markdown",
      "metadata": {
        "id": "view-in-github",
        "colab_type": "text"
      },
      "source": [
        "<a href=\"https://colab.research.google.com/github/Anirudho747/Edrk/blob/main/Class_1.ipynb\" target=\"_parent\"><img src=\"https://colab.research.google.com/assets/colab-badge.svg\" alt=\"Open In Colab\"/></a>"
      ]
    },
    {
      "cell_type": "code",
      "execution_count": null,
      "metadata": {
        "colab": {
          "base_uri": "https://localhost:8080/",
          "height": 198
        },
        "id": "kptZeSBULYla",
        "outputId": "e94a44ca-93b8-4961-9975-639b1df3e3fb"
      },
      "outputs": [
        {
          "output_type": "stream",
          "name": "stdout",
          "text": [
            "Ques:  Can you explain the difference between Agentic AI and AI Agents?\n",
            "Answer: The terms \"Agentic AI\" and \"AI Agents\" are closely related and often used interchangeably, but there's a subtle distinction:\n",
            "\n",
            "* **AI Agent:** This is a broader term referring to any software or system capable of acting autonomously in an environment to achieve a specific goal.  An AI agent perceives its environment through sensors, processes this information, and acts upon it through actuators. This could be a simple rule-based system, or a sophisticated deep learning model.  Examples include a spam filter (detecting spam and filtering it), a recommendation system (suggesting products based on user data), or a game-playing bot (choosing actions to win a game).  They are goal-oriented but don't necessarily possess the full characteristics of agency.\n",
            "\n",
            "* **Agentic AI:** This term emphasizes the *agency* of the AI, highlighting its ability to act autonomously and make decisions with a degree of self-determination.  It implies a higher level of autonomy, proactivity, and potentially even goal-setting beyond its initial programming.  Agentic AI goes beyond simply reacting to stimuli; it can plan, reason, learn, and adapt its behavior in pursuit of its goals.  It's a more advanced form of AI agent, closer to the human concept of agency.  A self-driving car navigating complex traffic situations, a robot collaborating with humans in a factory, or a virtual assistant that proactively anticipates your needs could all be considered examples of Agentic AI.\n",
            "\n",
            "In essence: all Agentic AI is an AI Agent, but not all AI Agents are Agentic AI.  The difference lies in the degree of autonomy and proactivity exhibited.  A simple AI agent might follow pre-programmed rules, whereas an Agentic AI demonstrates more sophisticated decision-making and self-directed behavior.  The line between the two can be blurry, and the terminology isn't always strictly defined, leading to some overlap in usage.\n",
            "\n"
          ]
        }
      ],
      "source": [
        "import google.generativeai as genai\n",
        "\n",
        "from google.colab import userdata\n",
        "\n",
        "# Configure my gemini API key\n",
        "\n",
        "# Access the API key from Colab secrets.\n",
        "\n",
        "genai.configure(api_key=userdata.get('GOOGLE_API_KEY'))\n",
        "\n",
        "# Load Gemini pro model\n",
        "\n",
        "model = genai.GenerativeModel(\"gemini-1.5-flash\")\n",
        "\n",
        "# Define a very simple function for the agent\n",
        "\n",
        "def simple_agent(prompt):\n",
        "\n",
        "    response = model.generate_content(prompt)\n",
        "\n",
        "    return response.text\n",
        "\n",
        "# Try first prompt\n",
        "\n",
        "question = \"Can you explain the difference between Agentic AI and AI Agents?\"\n",
        "\n",
        "answer = simple_agent(question)\n",
        "\n",
        "print(\"Ques: \", question)\n",
        "\n",
        "print(\"Answer:\", answer)\n",
        "\n",
        "\n",
        "\n",
        "\n"
      ]
    }
  ]
}